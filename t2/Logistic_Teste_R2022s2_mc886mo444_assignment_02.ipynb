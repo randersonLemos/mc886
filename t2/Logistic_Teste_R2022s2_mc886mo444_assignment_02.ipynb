{
 "cells": [
  {
   "cell_type": "markdown",
   "metadata": {
    "id": "Cs9E_R5yD48u"
   },
   "source": [
    "# **Assignment \\#2**: Machine Learning MC886/MO444\n",
    "University of Campinas (UNICAMP), Institute of Computing (IC)\n",
    "\n",
    "Prof. Sandra Avila, 2022s2\n",
    "\n"
   ]
  },
  {
   "cell_type": "markdown",
   "metadata": {},
   "source": [
    "#TODO\n",
    "\n",
    "-- Revisar escrita\n",
    "-- Kaggle\n",
    "-- Responder conclusoes\n",
    "-- Devolver variável de necessidade especial 1\n",
    "-- Responder parágrafos de conclues\n",
    "\n"
   ]
  },
  {
   "cell_type": "code",
   "execution_count": null,
   "metadata": {
    "id": "tFS9Oum_RJX9"
   },
   "outputs": [],
   "source": [
    "# TODO: RA \\& Name \n",
    "print('139373: ' + 'Cinthia Cristina Calchi Kleiner')\n",
    "print('103897: ' + 'Randerson A. Lemos')"
   ]
  },
  {
   "cell_type": "markdown",
   "metadata": {
    "id": "IVGH2s7fD_03"
   },
   "source": [
    " ## Objective\n",
    "\n",
    "Explore **linear regression** and **logistic regression** alternatives and come up with the best possible model for the problems, avoiding overfitting. In particular, predict the performance of students from public schools in the state of São Paulo based on socioeconomic data from SARESP (School Performance Assessment System of the State of São Paulo, or Sistema de Avaliação de Rendimento Escolar do Estado de São Paulo) 2021."
   ]
  },
  {
   "cell_type": "markdown",
   "metadata": {
    "id": "r3XDZRGqEwsk"
   },
   "source": [
    "### Dataset\n",
    "\n",
    "These data were aggregated from [Open Data Platform of the Secretary of Education of the State of São Paulo](https://dados.educacao.sp.gov.br/) (*Portal de Dados Abertos da Secretaria da Educação do Estado de São Paulo*). The dataset is based on two data sources: [SARESP questionnaire](https://dados.educacao.sp.gov.br/dataset/question%C3%A1rios-saresp) and [SARESP test](https://dados.educacao.sp.gov.br/dataset/profici%C3%AAncia-do-sistema-de-avalia%C3%A7%C3%A3o-de-rendimento-escolar-do-estado-de-s%C3%A3o-paulo-saresp-por), conducted in 2021 with students from the 5th and 9th year of Primary School and 3rd year of Highschool. The questionnaire comprehends 63 socio-economical questions, and it is available at the [link](https://dados.educacao.sp.gov.br/sites/default/files/Saresp_Quest_2021_Perguntas_Alunos.pdf ) ([English version](https://docs.google.com/document/d/1GUax3wwYxA43d3iNOiyCRImeCHgx8vUJrHlSzzYIXA4/edit?usp=sharing)), and the test is composed of questions of Portuguese, Mathematics, and Natural Sciences.\n",
    "\n",
    "\n",
    "**Data Dictionary**:\n",
    "\n",
    "- **CD_ALUNO**: Student ID;\n",
    "\n",
    "- **CODESC**: School ID;\n",
    "\n",
    "- **NOMESC**: School Name;\n",
    "\n",
    "- **RegiaoMetropolitana**: Metropolitan region;\n",
    "\n",
    "- **DE**: Name of the Education Board;\n",
    "\n",
    "- **CODMUN**: City ID;\n",
    "\n",
    "- **MUN**: City name;\n",
    "\n",
    "- **SERIE_ANO**: Scholar year;\n",
    "\n",
    "- **TURMA**: Class;\n",
    "\n",
    "- **TP_SEXO**: Sex (Female/Male);\n",
    "\n",
    "- **DT_NASCIMENTO**: Birth date;\n",
    "\n",
    "- **PERIODO**: Period of study (morning, afternoon, evening);\n",
    "\n",
    "- **Tem_Nec**: Whether student has any special needs (1 = yes, 0 = no);\n",
    "\n",
    "- **NEC_ESP_1** - **NEC_ESP_5**: Student disabilities;\n",
    "\n",
    "- **Tipo_PROVA**: Exam type (A = Enlarged, B = Braile, C = Common);\n",
    "\n",
    "- **QN**: Student answer to the question N (N= 1, ... , 63), see  questions in [questionnaire](https://dados.educacao.sp.gov.br/sites/default/files/Saresp_Quest_2021_Perguntas_Alunos.pdf ) ([English version](https://docs.google.com/document/d/1GUax3wwYxA43d3iNOiyCRImeCHgx8vUJrHlSzzYIXA4/edit?usp=sharing));\n",
    "\n",
    "- **porc_ACERT_lp**: Percentage of correct answers in the Portuguese test;\n",
    "\n",
    "- **porc_ACERT_MAT**: Percentage of correct answers in the Mathematics test;\n",
    "\n",
    "- **porc_ACERT_CIE**: Percentage of correct answers in the Natural Sciences test;\n",
    "\n",
    "- **nivel_profic_lp**: Proficiency level in the Portuguese test;\n",
    "\n",
    "- **nivel_profic_mat**: Proficiency level in the Mathematics test;\n",
    "\n",
    "- **nivel_profic_cie**:  Proficiency level in the Natural Sciences test.\n",
    "\n",
    "\n",
    "---\n",
    "\n",
    "\n",
    "\n",
    "You must respect the following training/test split:\n",
    "- SARESP_train.csv\n",
    "- SARESP_test.csv"
   ]
  },
  {
   "cell_type": "markdown",
   "metadata": {
    "id": "5FAA8hsZUseO"
   },
   "source": [
    "## Linear Regression\n",
    "\n",
    "This part of the assignment aims to predict students' performance on Portuguese, Mathematics, and Natural Sciences tests (target values: `porc_ACERT_lp`, `porc_ACERT_MAT`, and  `porc_ACERT_CIE`) based on their socioeconomic data. Then, at this point, you have to **drop the columns `nivel_profic_lp`, `nivel_profic_mat`** and **`nivel_profic_cie`**."
   ]
  },
  {
   "cell_type": "markdown",
   "metadata": {
    "id": "5d495CmpCltx"
   },
   "source": [
    "### Activities\n",
    "\n",
    "1. (3.5 points) Perform Linear Regression. You should implement your solution and compare it with ```sklearn.linear_model.SGDRegressor``` (linear model fitted by minimizing a regularized empirical loss with SGD, http://scikit-learn.org). Keep in mind that friends don't let friends use testing data for training :-)\n",
    "\n",
    "Note: Before we start an ML project, we always conduct a brief exploratory analysis :D \n",
    "\n",
    "Some factors to consider: Are there any outliers? Are there missing values? How will you handle categorical variables? Are there any features with low correlation with the target variables? What happens if you drop them?\n",
    "\n",
    "\n"
   ]
  },
  {
   "cell_type": "code",
   "execution_count": 1,
   "metadata": {
    "id": "3y0QxxH1KgE1"
   },
   "outputs": [],
   "source": [
    "# TODO: Load and preprocess your dataset.\n",
    "\n",
    "import numpy as np\n",
    "import pandas as pd\n",
    "import matplotlib.pyplot as plt\n",
    "import seaborn as sns\n",
    "import sklearn\n",
    "from sklearn.linear_model import SGDRegressor, LogisticRegression, LinearRegression\n",
    "from sklearn.metrics import mean_absolute_error, r2_score, confusion_matrix, balanced_accuracy_score\n",
    "from sklearn.preprocessing import LabelEncoder,MinMaxScaler, OneHotEncoder\n",
    "from sklearn.model_selection import train_test_split\n",
    "%matplotlib inline\n",
    "\n",
    "\n",
    "import warnings\n",
    "warnings.filterwarnings('ignore')"
   ]
  },
  {
   "cell_type": "code",
   "execution_count": 2,
   "metadata": {},
   "outputs": [],
   "source": [
    "pd.options.display.max_columns = None"
   ]
  },
  {
   "cell_type": "code",
   "execution_count": 3,
   "metadata": {},
   "outputs": [],
   "source": [
    "SEED = 42"
   ]
  },
  {
   "cell_type": "markdown",
   "metadata": {},
   "source": [
    "### Exploratory Data Analysis:"
   ]
  },
  {
   "cell_type": "code",
   "execution_count": 4,
   "metadata": {},
   "outputs": [],
   "source": [
    "data_path = \"assets/SARESP_train.csv\"\n",
    "df=pd.read_csv(data_path)"
   ]
  },
  {
   "cell_type": "code",
   "execution_count": 5,
   "metadata": {},
   "outputs": [
    {
     "name": "stdout",
     "output_type": "stream",
     "text": [
      "<class 'pandas.core.frame.DataFrame'>\n",
      "RangeIndex: 120596 entries, 0 to 120595\n",
      "Data columns (total 88 columns):\n",
      " #   Column               Non-Null Count   Dtype  \n",
      "---  ------               --------------   -----  \n",
      " 0   CD_ALUNO             120596 non-null  int64  \n",
      " 1   NOMESC               120596 non-null  object \n",
      " 2   Q1                   120596 non-null  object \n",
      " 3   Q2                   120596 non-null  object \n",
      " 4   Q3                   120596 non-null  object \n",
      " 5   Q4                   120596 non-null  object \n",
      " 6   Q5                   120596 non-null  object \n",
      " 7   Q6                   120596 non-null  object \n",
      " 8   Q7                   120596 non-null  object \n",
      " 9   Q8                   120596 non-null  object \n",
      " 10  Q9                   120596 non-null  object \n",
      " 11  Q10                  120596 non-null  object \n",
      " 12  Q11                  120596 non-null  object \n",
      " 13  Q12                  120596 non-null  object \n",
      " 14  Q13                  120596 non-null  object \n",
      " 15  Q14                  120596 non-null  object \n",
      " 16  Q15                  120596 non-null  object \n",
      " 17  Q16                  120596 non-null  object \n",
      " 18  Q17                  120596 non-null  object \n",
      " 19  Q18                  120596 non-null  object \n",
      " 20  Q19                  120596 non-null  object \n",
      " 21  Q20                  120596 non-null  object \n",
      " 22  Q21                  120596 non-null  object \n",
      " 23  Q22                  120596 non-null  object \n",
      " 24  Q23                  120596 non-null  object \n",
      " 25  Q24                  120596 non-null  object \n",
      " 26  Q25                  120596 non-null  object \n",
      " 27  Q26                  120596 non-null  object \n",
      " 28  Q27                  120596 non-null  object \n",
      " 29  Q28                  120596 non-null  object \n",
      " 30  Q29                  120596 non-null  object \n",
      " 31  Q30                  120596 non-null  object \n",
      " 32  Q31                  120596 non-null  object \n",
      " 33  Q32                  120596 non-null  object \n",
      " 34  Q33                  120596 non-null  object \n",
      " 35  Q34                  120596 non-null  object \n",
      " 36  Q35                  120596 non-null  object \n",
      " 37  Q36                  120596 non-null  object \n",
      " 38  Q37                  120596 non-null  object \n",
      " 39  Q38                  120596 non-null  object \n",
      " 40  Q39                  120596 non-null  object \n",
      " 41  Q40                  120596 non-null  object \n",
      " 42  Q41                  120596 non-null  object \n",
      " 43  Q42                  120596 non-null  object \n",
      " 44  Q43                  120596 non-null  object \n",
      " 45  Q44                  120596 non-null  object \n",
      " 46  Q45                  120596 non-null  object \n",
      " 47  Q46                  120596 non-null  object \n",
      " 48  Q47                  120596 non-null  object \n",
      " 49  Q48                  120596 non-null  object \n",
      " 50  Q49                  120596 non-null  object \n",
      " 51  Q50                  120596 non-null  object \n",
      " 52  Q51                  120596 non-null  object \n",
      " 53  Q52                  120596 non-null  object \n",
      " 54  Q53                  120596 non-null  object \n",
      " 55  Q54                  120596 non-null  object \n",
      " 56  Q55                  120596 non-null  object \n",
      " 57  Q56                  120596 non-null  object \n",
      " 58  Q57                  120596 non-null  object \n",
      " 59  Q58                  120596 non-null  object \n",
      " 60  Q59                  120596 non-null  object \n",
      " 61  Q60                  120596 non-null  object \n",
      " 62  Q61                  120596 non-null  object \n",
      " 63  Q62                  120596 non-null  object \n",
      " 64  Q63                  120596 non-null  object \n",
      " 65  RegiaoMetropolitana  120596 non-null  object \n",
      " 66  DE                   120596 non-null  object \n",
      " 67  CODMUN               120596 non-null  int64  \n",
      " 68  MUN                  120596 non-null  object \n",
      " 69  CODESC               120596 non-null  int64  \n",
      " 70  SERIE_ANO            120596 non-null  object \n",
      " 71  TURMA                120596 non-null  object \n",
      " 72  TP_SEXO              120596 non-null  object \n",
      " 73  DT_NASCIMENTO        120596 non-null  object \n",
      " 74  PERIODO              120596 non-null  object \n",
      " 75  NEC_ESP_1            2390 non-null    object \n",
      " 76  NEC_ESP_2            107 non-null     object \n",
      " 77  NEC_ESP_3            76 non-null      object \n",
      " 78  NEC_ESP_4            1 non-null       object \n",
      " 79  NEC_ESP_5            0 non-null       float64\n",
      " 80  Tipo_PROVA           120596 non-null  object \n",
      " 81  Tem_Nec              120596 non-null  int64  \n",
      " 82  porc_ACERT_lp        120596 non-null  float64\n",
      " 83  porc_ACERT_MAT       120596 non-null  float64\n",
      " 84  porc_ACERT_CIE       120596 non-null  float64\n",
      " 85  nivel_profic_lp      120596 non-null  object \n",
      " 86  nivel_profic_mat     120596 non-null  object \n",
      " 87  nivel_profic_cie     120596 non-null  object \n",
      "dtypes: float64(4), int64(4), object(80)\n",
      "memory usage: 81.0+ MB\n"
     ]
    }
   ],
   "source": [
    "###\n",
    "# With a pandas dataframe, it is possible to check how many records we have in the \n",
    "# trainning data. Let's use the method DataFrame.info to get an overview of the \n",
    "# loaded dataset.\n",
    "###\n",
    "\n",
    "df.info()"
   ]
  },
  {
   "cell_type": "code",
   "execution_count": 6,
   "metadata": {},
   "outputs": [
    {
     "name": "stdout",
     "output_type": "stream",
     "text": [
      "Column Name: NEC_ESP_1, Null Values Percentage: 98.01817639059338\n",
      "Column Name: NEC_ESP_2, Null Values Percentage: 99.91127400577133\n",
      "Column Name: NEC_ESP_3, Null Values Percentage: 99.93697966765068\n",
      "Column Name: NEC_ESP_4, Null Values Percentage: 99.99917078510066\n",
      "Column Name: NEC_ESP_5, Null Values Percentage: 100.0\n"
     ]
    }
   ],
   "source": [
    "###\n",
    "# Let's now visualize the percentage of the number of missing data in each \n",
    "# dataframe column. The following code show us the columns that have a null values \n",
    "# percentage greater than zero. The variables NEC_ESP_1, NEC_ESP_2 , NEC_ESP_2, NEC_ESP_4 \n",
    "# and NEC_ESP_5 do not own 98% of their data\n",
    "###\n",
    "\n",
    "for col in df.columns:\n",
    "    na_percentage = df[col].isna().sum() / df.shape[0] * 100\n",
    "    if na_percentage > 0:\n",
    "        print(f'Column Name: {col}, Null Values Percentage: {na_percentage}')"
   ]
  },
  {
   "cell_type": "code",
   "execution_count": 7,
   "metadata": {},
   "outputs": [],
   "source": [
    "###\n",
    "# At a first glancy, it seens that the columns NEC_ESP_* are degenerated with the \n",
    "# marjority of the samples missing. But, since this columns are associated to\n",
    "# students with some sort of special deasibility it is plausible to assume that\n",
    "# the samples with no information are from students that do not carry those \n",
    "# conditions. Even thoungh this is the case, we decided to still drop those columns since\n",
    "# the column Tem_Nec sintetizes the information of students with with and without those \n",
    "# special conditions.\n",
    "###\n",
    "\n",
    "df = df.drop(['NEC_ESP_1', 'NEC_ESP_2', 'NEC_ESP_3', 'NEC_ESP_4', 'NEC_ESP_5'], axis=1)"
   ]
  },
  {
   "cell_type": "code",
   "execution_count": 8,
   "metadata": {},
   "outputs": [
    {
     "data": {
      "text/html": [
       "<div>\n",
       "<style scoped>\n",
       "    .dataframe tbody tr th:only-of-type {\n",
       "        vertical-align: middle;\n",
       "    }\n",
       "\n",
       "    .dataframe tbody tr th {\n",
       "        vertical-align: top;\n",
       "    }\n",
       "\n",
       "    .dataframe thead th {\n",
       "        text-align: right;\n",
       "    }\n",
       "</style>\n",
       "<table border=\"1\" class=\"dataframe\">\n",
       "  <thead>\n",
       "    <tr style=\"text-align: right;\">\n",
       "      <th></th>\n",
       "      <th>CD_ALUNO</th>\n",
       "      <th>NOMESC</th>\n",
       "      <th>Q1</th>\n",
       "      <th>Q2</th>\n",
       "      <th>Q3</th>\n",
       "      <th>Q4</th>\n",
       "      <th>Q5</th>\n",
       "      <th>Q6</th>\n",
       "      <th>Q7</th>\n",
       "      <th>Q8</th>\n",
       "      <th>Q9</th>\n",
       "      <th>Q10</th>\n",
       "      <th>Q11</th>\n",
       "      <th>Q12</th>\n",
       "      <th>Q13</th>\n",
       "      <th>Q14</th>\n",
       "      <th>Q15</th>\n",
       "      <th>Q16</th>\n",
       "      <th>Q17</th>\n",
       "      <th>Q18</th>\n",
       "      <th>Q19</th>\n",
       "      <th>Q20</th>\n",
       "      <th>Q21</th>\n",
       "      <th>Q22</th>\n",
       "      <th>Q23</th>\n",
       "      <th>Q24</th>\n",
       "      <th>Q25</th>\n",
       "      <th>Q26</th>\n",
       "      <th>Q27</th>\n",
       "      <th>Q28</th>\n",
       "      <th>Q29</th>\n",
       "      <th>Q30</th>\n",
       "      <th>Q31</th>\n",
       "      <th>Q32</th>\n",
       "      <th>Q33</th>\n",
       "      <th>Q34</th>\n",
       "      <th>Q35</th>\n",
       "      <th>Q36</th>\n",
       "      <th>Q37</th>\n",
       "      <th>Q38</th>\n",
       "      <th>Q39</th>\n",
       "      <th>Q40</th>\n",
       "      <th>Q41</th>\n",
       "      <th>Q42</th>\n",
       "      <th>Q43</th>\n",
       "      <th>Q44</th>\n",
       "      <th>Q45</th>\n",
       "      <th>Q46</th>\n",
       "      <th>Q47</th>\n",
       "      <th>Q48</th>\n",
       "      <th>Q49</th>\n",
       "      <th>Q50</th>\n",
       "      <th>Q51</th>\n",
       "      <th>Q52</th>\n",
       "      <th>Q53</th>\n",
       "      <th>Q54</th>\n",
       "      <th>Q55</th>\n",
       "      <th>Q56</th>\n",
       "      <th>Q57</th>\n",
       "      <th>Q58</th>\n",
       "      <th>Q59</th>\n",
       "      <th>Q60</th>\n",
       "      <th>Q61</th>\n",
       "      <th>Q62</th>\n",
       "      <th>Q63</th>\n",
       "      <th>RegiaoMetropolitana</th>\n",
       "      <th>DE</th>\n",
       "      <th>CODMUN</th>\n",
       "      <th>MUN</th>\n",
       "      <th>CODESC</th>\n",
       "      <th>SERIE_ANO</th>\n",
       "      <th>TURMA</th>\n",
       "      <th>TP_SEXO</th>\n",
       "      <th>DT_NASCIMENTO</th>\n",
       "      <th>PERIODO</th>\n",
       "      <th>Tipo_PROVA</th>\n",
       "      <th>Tem_Nec</th>\n",
       "      <th>porc_ACERT_lp</th>\n",
       "      <th>porc_ACERT_MAT</th>\n",
       "      <th>porc_ACERT_CIE</th>\n",
       "      <th>nivel_profic_lp</th>\n",
       "      <th>nivel_profic_mat</th>\n",
       "      <th>nivel_profic_cie</th>\n",
       "    </tr>\n",
       "  </thead>\n",
       "  <tbody>\n",
       "    <tr>\n",
       "      <th>0</th>\n",
       "      <td>26270013</td>\n",
       "      <td>JULIO FORTES</td>\n",
       "      <td>B</td>\n",
       "      <td>E</td>\n",
       "      <td>E</td>\n",
       "      <td>E</td>\n",
       "      <td>E</td>\n",
       "      <td>E</td>\n",
       "      <td>E</td>\n",
       "      <td>E</td>\n",
       "      <td>B</td>\n",
       "      <td>A</td>\n",
       "      <td>A</td>\n",
       "      <td>A</td>\n",
       "      <td>A</td>\n",
       "      <td>A</td>\n",
       "      <td>A</td>\n",
       "      <td>B</td>\n",
       "      <td>A</td>\n",
       "      <td>B</td>\n",
       "      <td>B</td>\n",
       "      <td>B</td>\n",
       "      <td>B</td>\n",
       "      <td>A</td>\n",
       "      <td>A</td>\n",
       "      <td>A</td>\n",
       "      <td>A</td>\n",
       "      <td>A</td>\n",
       "      <td>C</td>\n",
       "      <td>C</td>\n",
       "      <td>B</td>\n",
       "      <td>B</td>\n",
       "      <td>B</td>\n",
       "      <td>C</td>\n",
       "      <td>A</td>\n",
       "      <td>B</td>\n",
       "      <td>C</td>\n",
       "      <td>C</td>\n",
       "      <td>C</td>\n",
       "      <td>C</td>\n",
       "      <td>C</td>\n",
       "      <td>C</td>\n",
       "      <td>C</td>\n",
       "      <td>A</td>\n",
       "      <td>C</td>\n",
       "      <td>C</td>\n",
       "      <td>C</td>\n",
       "      <td>C</td>\n",
       "      <td>C</td>\n",
       "      <td>C</td>\n",
       "      <td>C</td>\n",
       "      <td>B</td>\n",
       "      <td>C</td>\n",
       "      <td>B</td>\n",
       "      <td>B</td>\n",
       "      <td>B</td>\n",
       "      <td>B</td>\n",
       "      <td>A</td>\n",
       "      <td>D</td>\n",
       "      <td>C</td>\n",
       "      <td>C</td>\n",
       "      <td>D</td>\n",
       "      <td>C</td>\n",
       "      <td>A</td>\n",
       "      <td>D</td>\n",
       "      <td>Região Metropolitana do Vale do Paraíba e Lito...</td>\n",
       "      <td>GUARATINGUETA</td>\n",
       "      <td>414</td>\n",
       "      <td>LAVRINHAS</td>\n",
       "      <td>901489</td>\n",
       "      <td>EM-3ª série</td>\n",
       "      <td>A</td>\n",
       "      <td>F</td>\n",
       "      <td>11/15/2003</td>\n",
       "      <td>MANHÃ</td>\n",
       "      <td>C</td>\n",
       "      <td>0</td>\n",
       "      <td>41.7</td>\n",
       "      <td>20.8</td>\n",
       "      <td>20.8</td>\n",
       "      <td>Abaixo do Básico</td>\n",
       "      <td>Abaixo do Básico</td>\n",
       "      <td>Abaixo do Básico</td>\n",
       "    </tr>\n",
       "    <tr>\n",
       "      <th>1</th>\n",
       "      <td>30756614</td>\n",
       "      <td>MESSIAS FREIRE PROFESSOR</td>\n",
       "      <td>B</td>\n",
       "      <td>D</td>\n",
       "      <td>E</td>\n",
       "      <td>C</td>\n",
       "      <td>E</td>\n",
       "      <td>E</td>\n",
       "      <td>E</td>\n",
       "      <td>E</td>\n",
       "      <td>A</td>\n",
       "      <td>A</td>\n",
       "      <td>A</td>\n",
       "      <td>A</td>\n",
       "      <td>A</td>\n",
       "      <td>A</td>\n",
       "      <td>A</td>\n",
       "      <td>B</td>\n",
       "      <td>B</td>\n",
       "      <td>C</td>\n",
       "      <td>C</td>\n",
       "      <td>B</td>\n",
       "      <td>B</td>\n",
       "      <td>A</td>\n",
       "      <td>D</td>\n",
       "      <td>A</td>\n",
       "      <td>D</td>\n",
       "      <td>C</td>\n",
       "      <td>C</td>\n",
       "      <td>C</td>\n",
       "      <td>C</td>\n",
       "      <td>B</td>\n",
       "      <td>B</td>\n",
       "      <td>D</td>\n",
       "      <td>A</td>\n",
       "      <td>A</td>\n",
       "      <td>B</td>\n",
       "      <td>C</td>\n",
       "      <td>C</td>\n",
       "      <td>B</td>\n",
       "      <td>C</td>\n",
       "      <td>B</td>\n",
       "      <td>C</td>\n",
       "      <td>A</td>\n",
       "      <td>C</td>\n",
       "      <td>C</td>\n",
       "      <td>C</td>\n",
       "      <td>B</td>\n",
       "      <td>B</td>\n",
       "      <td>B</td>\n",
       "      <td>C</td>\n",
       "      <td>B</td>\n",
       "      <td>B</td>\n",
       "      <td>B</td>\n",
       "      <td>B</td>\n",
       "      <td>A</td>\n",
       "      <td>A</td>\n",
       "      <td>A</td>\n",
       "      <td>C</td>\n",
       "      <td>C</td>\n",
       "      <td>C</td>\n",
       "      <td>C</td>\n",
       "      <td>C</td>\n",
       "      <td>C</td>\n",
       "      <td>B</td>\n",
       "      <td>Região Metropolitana de São Paulo</td>\n",
       "      <td>SUL 1</td>\n",
       "      <td>100</td>\n",
       "      <td>SAO PAULO</td>\n",
       "      <td>37461</td>\n",
       "      <td>5º Ano EF</td>\n",
       "      <td>A</td>\n",
       "      <td>M</td>\n",
       "      <td>6/7/2010</td>\n",
       "      <td>MANHÃ</td>\n",
       "      <td>C</td>\n",
       "      <td>0</td>\n",
       "      <td>83.3</td>\n",
       "      <td>100.0</td>\n",
       "      <td>66.7</td>\n",
       "      <td>Adequado</td>\n",
       "      <td>Avançado</td>\n",
       "      <td>Adequado</td>\n",
       "    </tr>\n",
       "    <tr>\n",
       "      <th>2</th>\n",
       "      <td>26014872</td>\n",
       "      <td>JOSE CONTI</td>\n",
       "      <td>B</td>\n",
       "      <td>E</td>\n",
       "      <td>B</td>\n",
       "      <td>D</td>\n",
       "      <td>E</td>\n",
       "      <td>B</td>\n",
       "      <td>D</td>\n",
       "      <td>C</td>\n",
       "      <td>A</td>\n",
       "      <td>A</td>\n",
       "      <td>A</td>\n",
       "      <td>A</td>\n",
       "      <td>B</td>\n",
       "      <td>A</td>\n",
       "      <td>B</td>\n",
       "      <td>C</td>\n",
       "      <td>B</td>\n",
       "      <td>B</td>\n",
       "      <td>A</td>\n",
       "      <td>A</td>\n",
       "      <td>A</td>\n",
       "      <td>A</td>\n",
       "      <td>A</td>\n",
       "      <td>A</td>\n",
       "      <td>A</td>\n",
       "      <td>D</td>\n",
       "      <td>C</td>\n",
       "      <td>B</td>\n",
       "      <td>A</td>\n",
       "      <td>A</td>\n",
       "      <td>B</td>\n",
       "      <td>B</td>\n",
       "      <td>A</td>\n",
       "      <td>B</td>\n",
       "      <td>B</td>\n",
       "      <td>C</td>\n",
       "      <td>B</td>\n",
       "      <td>C</td>\n",
       "      <td>C</td>\n",
       "      <td>C</td>\n",
       "      <td>B</td>\n",
       "      <td>A</td>\n",
       "      <td>B</td>\n",
       "      <td>B</td>\n",
       "      <td>C</td>\n",
       "      <td>C</td>\n",
       "      <td>B</td>\n",
       "      <td>B</td>\n",
       "      <td>C</td>\n",
       "      <td>D</td>\n",
       "      <td>C</td>\n",
       "      <td>C</td>\n",
       "      <td>B</td>\n",
       "      <td>C</td>\n",
       "      <td>B</td>\n",
       "      <td>A</td>\n",
       "      <td>E</td>\n",
       "      <td>B</td>\n",
       "      <td>C</td>\n",
       "      <td>B</td>\n",
       "      <td>D</td>\n",
       "      <td>C</td>\n",
       "      <td>C</td>\n",
       "      <td>Interior</td>\n",
       "      <td>JAU</td>\n",
       "      <td>348</td>\n",
       "      <td>IGARACU DO TIETE</td>\n",
       "      <td>25963</td>\n",
       "      <td>9º Ano EF</td>\n",
       "      <td>A</td>\n",
       "      <td>F</td>\n",
       "      <td>12/10/2006</td>\n",
       "      <td>MANHÃ</td>\n",
       "      <td>C</td>\n",
       "      <td>0</td>\n",
       "      <td>58.3</td>\n",
       "      <td>37.5</td>\n",
       "      <td>54.2</td>\n",
       "      <td>Básico</td>\n",
       "      <td>Básico</td>\n",
       "      <td>Básico</td>\n",
       "    </tr>\n",
       "    <tr>\n",
       "      <th>3</th>\n",
       "      <td>25739025</td>\n",
       "      <td>NAPOLEAO DE CARVALHO FREIRE PROFESSOR</td>\n",
       "      <td>B</td>\n",
       "      <td>D</td>\n",
       "      <td>E</td>\n",
       "      <td>D</td>\n",
       "      <td>C</td>\n",
       "      <td>E</td>\n",
       "      <td>D</td>\n",
       "      <td>D</td>\n",
       "      <td>A</td>\n",
       "      <td>A</td>\n",
       "      <td>B</td>\n",
       "      <td>B</td>\n",
       "      <td>C</td>\n",
       "      <td>B</td>\n",
       "      <td>B</td>\n",
       "      <td>C</td>\n",
       "      <td>B</td>\n",
       "      <td>B</td>\n",
       "      <td>A</td>\n",
       "      <td>B</td>\n",
       "      <td>A</td>\n",
       "      <td>B</td>\n",
       "      <td>B</td>\n",
       "      <td>A</td>\n",
       "      <td>B</td>\n",
       "      <td>D</td>\n",
       "      <td>B</td>\n",
       "      <td>A</td>\n",
       "      <td>B</td>\n",
       "      <td>A</td>\n",
       "      <td>B</td>\n",
       "      <td>B</td>\n",
       "      <td>B</td>\n",
       "      <td>B</td>\n",
       "      <td>C</td>\n",
       "      <td>C</td>\n",
       "      <td>C</td>\n",
       "      <td>C</td>\n",
       "      <td>C</td>\n",
       "      <td>C</td>\n",
       "      <td>C</td>\n",
       "      <td>C</td>\n",
       "      <td>C</td>\n",
       "      <td>C</td>\n",
       "      <td>C</td>\n",
       "      <td>C</td>\n",
       "      <td>C</td>\n",
       "      <td>C</td>\n",
       "      <td>C</td>\n",
       "      <td>B</td>\n",
       "      <td>B</td>\n",
       "      <td>D</td>\n",
       "      <td>C</td>\n",
       "      <td>A</td>\n",
       "      <td>A</td>\n",
       "      <td>A</td>\n",
       "      <td>E</td>\n",
       "      <td>C</td>\n",
       "      <td>C</td>\n",
       "      <td>B</td>\n",
       "      <td>C</td>\n",
       "      <td>B</td>\n",
       "      <td>C</td>\n",
       "      <td>Região Metropolitana de São Paulo</td>\n",
       "      <td>CENTRO OESTE</td>\n",
       "      <td>100</td>\n",
       "      <td>SAO PAULO</td>\n",
       "      <td>3924</td>\n",
       "      <td>EM-3ª série</td>\n",
       "      <td>B</td>\n",
       "      <td>M</td>\n",
       "      <td>10/3/2003</td>\n",
       "      <td>MANHÃ</td>\n",
       "      <td>C</td>\n",
       "      <td>0</td>\n",
       "      <td>29.2</td>\n",
       "      <td>29.2</td>\n",
       "      <td>16.7</td>\n",
       "      <td>Abaixo do Básico</td>\n",
       "      <td>Abaixo do Básico</td>\n",
       "      <td>Abaixo do Básico</td>\n",
       "    </tr>\n",
       "    <tr>\n",
       "      <th>4</th>\n",
       "      <td>27363009</td>\n",
       "      <td>RESIDENCIAL BORDON</td>\n",
       "      <td>B</td>\n",
       "      <td>D</td>\n",
       "      <td>E</td>\n",
       "      <td>E</td>\n",
       "      <td>E</td>\n",
       "      <td>E</td>\n",
       "      <td>E</td>\n",
       "      <td>C</td>\n",
       "      <td>A</td>\n",
       "      <td>A</td>\n",
       "      <td>A</td>\n",
       "      <td>A</td>\n",
       "      <td>C</td>\n",
       "      <td>A</td>\n",
       "      <td>B</td>\n",
       "      <td>C</td>\n",
       "      <td>B</td>\n",
       "      <td>B</td>\n",
       "      <td>A</td>\n",
       "      <td>B</td>\n",
       "      <td>A</td>\n",
       "      <td>A</td>\n",
       "      <td>B</td>\n",
       "      <td>A</td>\n",
       "      <td>B</td>\n",
       "      <td>C</td>\n",
       "      <td>C</td>\n",
       "      <td>A</td>\n",
       "      <td>C</td>\n",
       "      <td>B</td>\n",
       "      <td>B</td>\n",
       "      <td>B</td>\n",
       "      <td>B</td>\n",
       "      <td>A</td>\n",
       "      <td>C</td>\n",
       "      <td>C</td>\n",
       "      <td>B</td>\n",
       "      <td>C</td>\n",
       "      <td>C</td>\n",
       "      <td>C</td>\n",
       "      <td>C</td>\n",
       "      <td>A</td>\n",
       "      <td>C</td>\n",
       "      <td>B</td>\n",
       "      <td>C</td>\n",
       "      <td>C</td>\n",
       "      <td>B</td>\n",
       "      <td>B</td>\n",
       "      <td>B</td>\n",
       "      <td>B</td>\n",
       "      <td>B</td>\n",
       "      <td>B</td>\n",
       "      <td>B</td>\n",
       "      <td>B</td>\n",
       "      <td>B</td>\n",
       "      <td>A</td>\n",
       "      <td>E</td>\n",
       "      <td>B</td>\n",
       "      <td>C</td>\n",
       "      <td>A</td>\n",
       "      <td>D</td>\n",
       "      <td>A</td>\n",
       "      <td>D</td>\n",
       "      <td>Região Metropolitana de Campinas</td>\n",
       "      <td>SUMARE</td>\n",
       "      <td>671</td>\n",
       "      <td>SUMARE</td>\n",
       "      <td>576670</td>\n",
       "      <td>9º Ano EF</td>\n",
       "      <td>D</td>\n",
       "      <td>F</td>\n",
       "      <td>4/6/2007</td>\n",
       "      <td>MANHÃ</td>\n",
       "      <td>C</td>\n",
       "      <td>0</td>\n",
       "      <td>79.2</td>\n",
       "      <td>41.7</td>\n",
       "      <td>50.0</td>\n",
       "      <td>Adequado</td>\n",
       "      <td>Abaixo do Básico</td>\n",
       "      <td>Básico</td>\n",
       "    </tr>\n",
       "    <tr>\n",
       "      <th>5</th>\n",
       "      <td>29106659</td>\n",
       "      <td>ANA MESQUITA LAURINI</td>\n",
       "      <td>B</td>\n",
       "      <td>C</td>\n",
       "      <td>D</td>\n",
       "      <td>C</td>\n",
       "      <td>C</td>\n",
       "      <td>D</td>\n",
       "      <td>C</td>\n",
       "      <td>C</td>\n",
       "      <td>A</td>\n",
       "      <td>A</td>\n",
       "      <td>B</td>\n",
       "      <td>B</td>\n",
       "      <td>C</td>\n",
       "      <td>B</td>\n",
       "      <td>C</td>\n",
       "      <td>B</td>\n",
       "      <td>B</td>\n",
       "      <td>B</td>\n",
       "      <td>A</td>\n",
       "      <td>B</td>\n",
       "      <td>B</td>\n",
       "      <td>A</td>\n",
       "      <td>B</td>\n",
       "      <td>A</td>\n",
       "      <td>B</td>\n",
       "      <td>A</td>\n",
       "      <td>B</td>\n",
       "      <td>B</td>\n",
       "      <td>A</td>\n",
       "      <td>A</td>\n",
       "      <td>B</td>\n",
       "      <td>A</td>\n",
       "      <td>C</td>\n",
       "      <td>A</td>\n",
       "      <td>B</td>\n",
       "      <td>B</td>\n",
       "      <td>B</td>\n",
       "      <td>B</td>\n",
       "      <td>C</td>\n",
       "      <td>C</td>\n",
       "      <td>B</td>\n",
       "      <td>B</td>\n",
       "      <td>C</td>\n",
       "      <td>C</td>\n",
       "      <td>C</td>\n",
       "      <td>C</td>\n",
       "      <td>C</td>\n",
       "      <td>C</td>\n",
       "      <td>C</td>\n",
       "      <td>C</td>\n",
       "      <td>C</td>\n",
       "      <td>B</td>\n",
       "      <td>B</td>\n",
       "      <td>B</td>\n",
       "      <td>C</td>\n",
       "      <td>A</td>\n",
       "      <td>C</td>\n",
       "      <td>B</td>\n",
       "      <td>B</td>\n",
       "      <td>A</td>\n",
       "      <td>D</td>\n",
       "      <td>D</td>\n",
       "      <td>D</td>\n",
       "      <td>Interior</td>\n",
       "      <td>ITU</td>\n",
       "      <td>233</td>\n",
       "      <td>CABREUVA</td>\n",
       "      <td>36171</td>\n",
       "      <td>9º Ano EF</td>\n",
       "      <td>B</td>\n",
       "      <td>M</td>\n",
       "      <td>12/10/2006</td>\n",
       "      <td>MANHÃ</td>\n",
       "      <td>C</td>\n",
       "      <td>0</td>\n",
       "      <td>66.7</td>\n",
       "      <td>66.7</td>\n",
       "      <td>70.8</td>\n",
       "      <td>Básico</td>\n",
       "      <td>Básico</td>\n",
       "      <td>Básico</td>\n",
       "    </tr>\n",
       "    <tr>\n",
       "      <th>6</th>\n",
       "      <td>26920670</td>\n",
       "      <td>HERBERT BALDUS</td>\n",
       "      <td>B</td>\n",
       "      <td>E</td>\n",
       "      <td>D</td>\n",
       "      <td>E</td>\n",
       "      <td>E</td>\n",
       "      <td>C</td>\n",
       "      <td>E</td>\n",
       "      <td>E</td>\n",
       "      <td>A</td>\n",
       "      <td>A</td>\n",
       "      <td>B</td>\n",
       "      <td>A</td>\n",
       "      <td>B</td>\n",
       "      <td>B</td>\n",
       "      <td>A</td>\n",
       "      <td>A</td>\n",
       "      <td>B</td>\n",
       "      <td>C</td>\n",
       "      <td>A</td>\n",
       "      <td>A</td>\n",
       "      <td>B</td>\n",
       "      <td>B</td>\n",
       "      <td>B</td>\n",
       "      <td>A</td>\n",
       "      <td>B</td>\n",
       "      <td>D</td>\n",
       "      <td>B</td>\n",
       "      <td>A</td>\n",
       "      <td>B</td>\n",
       "      <td>A</td>\n",
       "      <td>C</td>\n",
       "      <td>B</td>\n",
       "      <td>C</td>\n",
       "      <td>B</td>\n",
       "      <td>C</td>\n",
       "      <td>C</td>\n",
       "      <td>C</td>\n",
       "      <td>C</td>\n",
       "      <td>C</td>\n",
       "      <td>C</td>\n",
       "      <td>C</td>\n",
       "      <td>B</td>\n",
       "      <td>C</td>\n",
       "      <td>B</td>\n",
       "      <td>C</td>\n",
       "      <td>C</td>\n",
       "      <td>C</td>\n",
       "      <td>C</td>\n",
       "      <td>C</td>\n",
       "      <td>C</td>\n",
       "      <td>D</td>\n",
       "      <td>E</td>\n",
       "      <td>C</td>\n",
       "      <td>B</td>\n",
       "      <td>B</td>\n",
       "      <td>A</td>\n",
       "      <td>D</td>\n",
       "      <td>C</td>\n",
       "      <td>A</td>\n",
       "      <td>A</td>\n",
       "      <td>A</td>\n",
       "      <td>B</td>\n",
       "      <td>C</td>\n",
       "      <td>Região Metropolitana de São Paulo</td>\n",
       "      <td>SUL 3</td>\n",
       "      <td>100</td>\n",
       "      <td>SAO PAULO</td>\n",
       "      <td>5459</td>\n",
       "      <td>EM-3ª série</td>\n",
       "      <td>D</td>\n",
       "      <td>F</td>\n",
       "      <td>9/21/2003</td>\n",
       "      <td>NOITE</td>\n",
       "      <td>C</td>\n",
       "      <td>0</td>\n",
       "      <td>50.0</td>\n",
       "      <td>16.7</td>\n",
       "      <td>62.5</td>\n",
       "      <td>Básico</td>\n",
       "      <td>Abaixo do Básico</td>\n",
       "      <td>Básico</td>\n",
       "    </tr>\n",
       "    <tr>\n",
       "      <th>7</th>\n",
       "      <td>23566650</td>\n",
       "      <td>TEOFILO DE ANDRADE DOUTOR</td>\n",
       "      <td>A</td>\n",
       "      <td>E</td>\n",
       "      <td>D</td>\n",
       "      <td>D</td>\n",
       "      <td>D</td>\n",
       "      <td>D</td>\n",
       "      <td>D</td>\n",
       "      <td>C</td>\n",
       "      <td>B</td>\n",
       "      <td>A</td>\n",
       "      <td>A</td>\n",
       "      <td>A</td>\n",
       "      <td>A</td>\n",
       "      <td>A</td>\n",
       "      <td>A</td>\n",
       "      <td>A</td>\n",
       "      <td>A</td>\n",
       "      <td>A</td>\n",
       "      <td>B</td>\n",
       "      <td>B</td>\n",
       "      <td>B</td>\n",
       "      <td>A</td>\n",
       "      <td>A</td>\n",
       "      <td>A</td>\n",
       "      <td>A</td>\n",
       "      <td>A</td>\n",
       "      <td>C</td>\n",
       "      <td>C</td>\n",
       "      <td>B</td>\n",
       "      <td>C</td>\n",
       "      <td>C</td>\n",
       "      <td>B</td>\n",
       "      <td>A</td>\n",
       "      <td>B</td>\n",
       "      <td>C</td>\n",
       "      <td>C</td>\n",
       "      <td>C</td>\n",
       "      <td>C</td>\n",
       "      <td>C</td>\n",
       "      <td>C</td>\n",
       "      <td>C</td>\n",
       "      <td>A</td>\n",
       "      <td>B</td>\n",
       "      <td>C</td>\n",
       "      <td>B</td>\n",
       "      <td>B</td>\n",
       "      <td>C</td>\n",
       "      <td>C</td>\n",
       "      <td>B</td>\n",
       "      <td>D</td>\n",
       "      <td>D</td>\n",
       "      <td>E</td>\n",
       "      <td>B</td>\n",
       "      <td>D</td>\n",
       "      <td>B</td>\n",
       "      <td>A</td>\n",
       "      <td>D</td>\n",
       "      <td>C</td>\n",
       "      <td>A</td>\n",
       "      <td>D</td>\n",
       "      <td>C</td>\n",
       "      <td>C</td>\n",
       "      <td>C</td>\n",
       "      <td>Interior</td>\n",
       "      <td>SAO JOAO DA BOA VISTA</td>\n",
       "      <td>639</td>\n",
       "      <td>SAO JOAO DA BOA VISTA</td>\n",
       "      <td>20710</td>\n",
       "      <td>EM-3ª série</td>\n",
       "      <td>A</td>\n",
       "      <td>M</td>\n",
       "      <td>5/20/2004</td>\n",
       "      <td>MANHÃ</td>\n",
       "      <td>C</td>\n",
       "      <td>0</td>\n",
       "      <td>87.5</td>\n",
       "      <td>83.3</td>\n",
       "      <td>79.2</td>\n",
       "      <td>Adequado</td>\n",
       "      <td>Adequado</td>\n",
       "      <td>Adequado</td>\n",
       "    </tr>\n",
       "    <tr>\n",
       "      <th>8</th>\n",
       "      <td>29849774</td>\n",
       "      <td>FERNANDO BRASIL PROF</td>\n",
       "      <td>A</td>\n",
       "      <td>E</td>\n",
       "      <td>E</td>\n",
       "      <td>E</td>\n",
       "      <td>E</td>\n",
       "      <td>E</td>\n",
       "      <td>E</td>\n",
       "      <td>E</td>\n",
       "      <td>A</td>\n",
       "      <td>A</td>\n",
       "      <td>A</td>\n",
       "      <td>A</td>\n",
       "      <td>A</td>\n",
       "      <td>A</td>\n",
       "      <td>A</td>\n",
       "      <td>B</td>\n",
       "      <td>B</td>\n",
       "      <td>A</td>\n",
       "      <td>B</td>\n",
       "      <td>A</td>\n",
       "      <td>B</td>\n",
       "      <td>A</td>\n",
       "      <td>B</td>\n",
       "      <td>A</td>\n",
       "      <td>B</td>\n",
       "      <td>B</td>\n",
       "      <td>C</td>\n",
       "      <td>C</td>\n",
       "      <td>C</td>\n",
       "      <td>C</td>\n",
       "      <td>B</td>\n",
       "      <td>A</td>\n",
       "      <td>A</td>\n",
       "      <td>B</td>\n",
       "      <td>C</td>\n",
       "      <td>C</td>\n",
       "      <td>C</td>\n",
       "      <td>C</td>\n",
       "      <td>C</td>\n",
       "      <td>C</td>\n",
       "      <td>C</td>\n",
       "      <td>A</td>\n",
       "      <td>D</td>\n",
       "      <td>B</td>\n",
       "      <td>D</td>\n",
       "      <td>D</td>\n",
       "      <td>D</td>\n",
       "      <td>D</td>\n",
       "      <td>D</td>\n",
       "      <td>B</td>\n",
       "      <td>B</td>\n",
       "      <td>B</td>\n",
       "      <td>B</td>\n",
       "      <td>A</td>\n",
       "      <td>B</td>\n",
       "      <td>A</td>\n",
       "      <td>C</td>\n",
       "      <td>B</td>\n",
       "      <td>C</td>\n",
       "      <td>B</td>\n",
       "      <td>C</td>\n",
       "      <td>A</td>\n",
       "      <td>C</td>\n",
       "      <td>Interior</td>\n",
       "      <td>TAQUARITINGA</td>\n",
       "      <td>674</td>\n",
       "      <td>TABATINGA</td>\n",
       "      <td>22056</td>\n",
       "      <td>5º Ano EF</td>\n",
       "      <td>A</td>\n",
       "      <td>M</td>\n",
       "      <td>3/31/2011</td>\n",
       "      <td>TARDE</td>\n",
       "      <td>C</td>\n",
       "      <td>0</td>\n",
       "      <td>29.2</td>\n",
       "      <td>41.7</td>\n",
       "      <td>20.8</td>\n",
       "      <td>Abaixo do Básico</td>\n",
       "      <td>Básico</td>\n",
       "      <td>Abaixo do Básico</td>\n",
       "    </tr>\n",
       "    <tr>\n",
       "      <th>9</th>\n",
       "      <td>32568405</td>\n",
       "      <td>ASTROGILDO SILVA PROFESSOR</td>\n",
       "      <td>B</td>\n",
       "      <td>E</td>\n",
       "      <td>D</td>\n",
       "      <td>D</td>\n",
       "      <td>E</td>\n",
       "      <td>E</td>\n",
       "      <td>E</td>\n",
       "      <td>D</td>\n",
       "      <td>A</td>\n",
       "      <td>A</td>\n",
       "      <td>A</td>\n",
       "      <td>A</td>\n",
       "      <td>C</td>\n",
       "      <td>A</td>\n",
       "      <td>B</td>\n",
       "      <td>C</td>\n",
       "      <td>A</td>\n",
       "      <td>B</td>\n",
       "      <td>A</td>\n",
       "      <td>A</td>\n",
       "      <td>A</td>\n",
       "      <td>A</td>\n",
       "      <td>A</td>\n",
       "      <td>A</td>\n",
       "      <td>A</td>\n",
       "      <td>A</td>\n",
       "      <td>C</td>\n",
       "      <td>B</td>\n",
       "      <td>C</td>\n",
       "      <td>B</td>\n",
       "      <td>B</td>\n",
       "      <td>B</td>\n",
       "      <td>A</td>\n",
       "      <td>A</td>\n",
       "      <td>C</td>\n",
       "      <td>B</td>\n",
       "      <td>C</td>\n",
       "      <td>B</td>\n",
       "      <td>C</td>\n",
       "      <td>C</td>\n",
       "      <td>B</td>\n",
       "      <td>B</td>\n",
       "      <td>C</td>\n",
       "      <td>C</td>\n",
       "      <td>C</td>\n",
       "      <td>C</td>\n",
       "      <td>C</td>\n",
       "      <td>C</td>\n",
       "      <td>C</td>\n",
       "      <td>B</td>\n",
       "      <td>C</td>\n",
       "      <td>A</td>\n",
       "      <td>B</td>\n",
       "      <td>A</td>\n",
       "      <td>C</td>\n",
       "      <td>A</td>\n",
       "      <td>D</td>\n",
       "      <td>B</td>\n",
       "      <td>C</td>\n",
       "      <td>B</td>\n",
       "      <td>C</td>\n",
       "      <td>C</td>\n",
       "      <td>C</td>\n",
       "      <td>Região Metropolitana de São Paulo</td>\n",
       "      <td>CENTRO SUL</td>\n",
       "      <td>100</td>\n",
       "      <td>SAO PAULO</td>\n",
       "      <td>4364</td>\n",
       "      <td>5º Ano EF</td>\n",
       "      <td>B</td>\n",
       "      <td>F</td>\n",
       "      <td>5/14/2010</td>\n",
       "      <td>TARDE</td>\n",
       "      <td>C</td>\n",
       "      <td>0</td>\n",
       "      <td>75.0</td>\n",
       "      <td>75.0</td>\n",
       "      <td>66.7</td>\n",
       "      <td>Adequado</td>\n",
       "      <td>Adequado</td>\n",
       "      <td>Adequado</td>\n",
       "    </tr>\n",
       "  </tbody>\n",
       "</table>\n",
       "</div>"
      ],
      "text/plain": [
       "   CD_ALUNO                                 NOMESC Q1 Q2 Q3 Q4 Q5 Q6 Q7 Q8 Q9  \\\n",
       "0  26270013                           JULIO FORTES  B  E  E  E  E  E  E  E  B   \n",
       "1  30756614               MESSIAS FREIRE PROFESSOR  B  D  E  C  E  E  E  E  A   \n",
       "2  26014872                             JOSE CONTI  B  E  B  D  E  B  D  C  A   \n",
       "3  25739025  NAPOLEAO DE CARVALHO FREIRE PROFESSOR  B  D  E  D  C  E  D  D  A   \n",
       "4  27363009                     RESIDENCIAL BORDON  B  D  E  E  E  E  E  C  A   \n",
       "5  29106659                   ANA MESQUITA LAURINI  B  C  D  C  C  D  C  C  A   \n",
       "6  26920670                         HERBERT BALDUS  B  E  D  E  E  C  E  E  A   \n",
       "7  23566650              TEOFILO DE ANDRADE DOUTOR  A  E  D  D  D  D  D  C  B   \n",
       "8  29849774                   FERNANDO BRASIL PROF  A  E  E  E  E  E  E  E  A   \n",
       "9  32568405             ASTROGILDO SILVA PROFESSOR  B  E  D  D  E  E  E  D  A   \n",
       "\n",
       "  Q10 Q11 Q12 Q13 Q14 Q15 Q16 Q17 Q18 Q19 Q20 Q21 Q22 Q23 Q24 Q25 Q26 Q27 Q28  \\\n",
       "0   A   A   A   A   A   A   B   A   B   B   B   B   A   A   A   A   A   C   C   \n",
       "1   A   A   A   A   A   A   B   B   C   C   B   B   A   D   A   D   C   C   C   \n",
       "2   A   A   A   B   A   B   C   B   B   A   A   A   A   A   A   A   D   C   B   \n",
       "3   A   B   B   C   B   B   C   B   B   A   B   A   B   B   A   B   D   B   A   \n",
       "4   A   A   A   C   A   B   C   B   B   A   B   A   A   B   A   B   C   C   A   \n",
       "5   A   B   B   C   B   C   B   B   B   A   B   B   A   B   A   B   A   B   B   \n",
       "6   A   B   A   B   B   A   A   B   C   A   A   B   B   B   A   B   D   B   A   \n",
       "7   A   A   A   A   A   A   A   A   A   B   B   B   A   A   A   A   A   C   C   \n",
       "8   A   A   A   A   A   A   B   B   A   B   A   B   A   B   A   B   B   C   C   \n",
       "9   A   A   A   C   A   B   C   A   B   A   A   A   A   A   A   A   A   C   B   \n",
       "\n",
       "  Q29 Q30 Q31 Q32 Q33 Q34 Q35 Q36 Q37 Q38 Q39 Q40 Q41 Q42 Q43 Q44 Q45 Q46 Q47  \\\n",
       "0   B   B   B   C   A   B   C   C   C   C   C   C   C   A   C   C   C   C   C   \n",
       "1   C   B   B   D   A   A   B   C   C   B   C   B   C   A   C   C   C   B   B   \n",
       "2   A   A   B   B   A   B   B   C   B   C   C   C   B   A   B   B   C   C   B   \n",
       "3   B   A   B   B   B   B   C   C   C   C   C   C   C   C   C   C   C   C   C   \n",
       "4   C   B   B   B   B   A   C   C   B   C   C   C   C   A   C   B   C   C   B   \n",
       "5   A   A   B   A   C   A   B   B   B   B   C   C   B   B   C   C   C   C   C   \n",
       "6   B   A   C   B   C   B   C   C   C   C   C   C   C   B   C   B   C   C   C   \n",
       "7   B   C   C   B   A   B   C   C   C   C   C   C   C   A   B   C   B   B   C   \n",
       "8   C   C   B   A   A   B   C   C   C   C   C   C   C   A   D   B   D   D   D   \n",
       "9   C   B   B   B   A   A   C   B   C   B   C   C   B   B   C   C   C   C   C   \n",
       "\n",
       "  Q48 Q49 Q50 Q51 Q52 Q53 Q54 Q55 Q56 Q57 Q58 Q59 Q60 Q61 Q62 Q63  \\\n",
       "0   C   C   B   C   B   B   B   B   A   D   C   C   D   C   A   D   \n",
       "1   B   C   B   B   B   B   A   A   A   C   C   C   C   C   C   B   \n",
       "2   B   C   D   C   C   B   C   B   A   E   B   C   B   D   C   C   \n",
       "3   C   C   B   B   D   C   A   A   A   E   C   C   B   C   B   C   \n",
       "4   B   B   B   B   B   B   B   B   A   E   B   C   A   D   A   D   \n",
       "5   C   C   C   C   B   B   B   C   A   C   B   B   A   D   D   D   \n",
       "6   C   C   C   D   E   C   B   B   A   D   C   A   A   A   B   C   \n",
       "7   C   B   D   D   E   B   D   B   A   D   C   A   D   C   C   C   \n",
       "8   D   D   B   B   B   B   A   B   A   C   B   C   B   C   A   C   \n",
       "9   C   C   B   C   A   B   A   C   A   D   B   C   B   C   C   C   \n",
       "\n",
       "                                 RegiaoMetropolitana                     DE  \\\n",
       "0  Região Metropolitana do Vale do Paraíba e Lito...          GUARATINGUETA   \n",
       "1                  Região Metropolitana de São Paulo                  SUL 1   \n",
       "2                                           Interior                    JAU   \n",
       "3                  Região Metropolitana de São Paulo           CENTRO OESTE   \n",
       "4                   Região Metropolitana de Campinas                 SUMARE   \n",
       "5                                           Interior                    ITU   \n",
       "6                  Região Metropolitana de São Paulo                  SUL 3   \n",
       "7                                           Interior  SAO JOAO DA BOA VISTA   \n",
       "8                                           Interior           TAQUARITINGA   \n",
       "9                  Região Metropolitana de São Paulo             CENTRO SUL   \n",
       "\n",
       "   CODMUN                    MUN  CODESC    SERIE_ANO TURMA TP_SEXO  \\\n",
       "0     414              LAVRINHAS  901489  EM-3ª série     A       F   \n",
       "1     100              SAO PAULO   37461    5º Ano EF     A       M   \n",
       "2     348       IGARACU DO TIETE   25963    9º Ano EF     A       F   \n",
       "3     100              SAO PAULO    3924  EM-3ª série     B       M   \n",
       "4     671                 SUMARE  576670    9º Ano EF     D       F   \n",
       "5     233               CABREUVA   36171    9º Ano EF     B       M   \n",
       "6     100              SAO PAULO    5459  EM-3ª série     D       F   \n",
       "7     639  SAO JOAO DA BOA VISTA   20710  EM-3ª série     A       M   \n",
       "8     674              TABATINGA   22056    5º Ano EF     A       M   \n",
       "9     100              SAO PAULO    4364    5º Ano EF     B       F   \n",
       "\n",
       "  DT_NASCIMENTO PERIODO Tipo_PROVA  Tem_Nec  porc_ACERT_lp  porc_ACERT_MAT  \\\n",
       "0    11/15/2003   MANHÃ          C        0           41.7            20.8   \n",
       "1      6/7/2010   MANHÃ          C        0           83.3           100.0   \n",
       "2    12/10/2006   MANHÃ          C        0           58.3            37.5   \n",
       "3     10/3/2003   MANHÃ          C        0           29.2            29.2   \n",
       "4      4/6/2007   MANHÃ          C        0           79.2            41.7   \n",
       "5    12/10/2006   MANHÃ          C        0           66.7            66.7   \n",
       "6     9/21/2003   NOITE          C        0           50.0            16.7   \n",
       "7     5/20/2004   MANHÃ          C        0           87.5            83.3   \n",
       "8     3/31/2011   TARDE          C        0           29.2            41.7   \n",
       "9     5/14/2010   TARDE          C        0           75.0            75.0   \n",
       "\n",
       "   porc_ACERT_CIE   nivel_profic_lp  nivel_profic_mat  nivel_profic_cie  \n",
       "0            20.8  Abaixo do Básico  Abaixo do Básico  Abaixo do Básico  \n",
       "1            66.7          Adequado          Avançado          Adequado  \n",
       "2            54.2            Básico            Básico            Básico  \n",
       "3            16.7  Abaixo do Básico  Abaixo do Básico  Abaixo do Básico  \n",
       "4            50.0          Adequado  Abaixo do Básico            Básico  \n",
       "5            70.8            Básico            Básico            Básico  \n",
       "6            62.5            Básico  Abaixo do Básico            Básico  \n",
       "7            79.2          Adequado          Adequado          Adequado  \n",
       "8            20.8  Abaixo do Básico            Básico  Abaixo do Básico  \n",
       "9            66.7          Adequado          Adequado          Adequado  "
      ]
     },
     "execution_count": 8,
     "metadata": {},
     "output_type": "execute_result"
    }
   ],
   "source": [
    "###\n",
    "# Dataset actual state\n",
    "###\n",
    "\n",
    "df.head(10)"
   ]
  },
  {
   "cell_type": "code",
   "execution_count": 9,
   "metadata": {},
   "outputs": [
    {
     "data": {
      "text/html": [
       "<div>\n",
       "<style scoped>\n",
       "    .dataframe tbody tr th:only-of-type {\n",
       "        vertical-align: middle;\n",
       "    }\n",
       "\n",
       "    .dataframe tbody tr th {\n",
       "        vertical-align: top;\n",
       "    }\n",
       "\n",
       "    .dataframe thead th {\n",
       "        text-align: right;\n",
       "    }\n",
       "</style>\n",
       "<table border=\"1\" class=\"dataframe\">\n",
       "  <thead>\n",
       "    <tr style=\"text-align: right;\">\n",
       "      <th></th>\n",
       "      <th>CD_ALUNO</th>\n",
       "      <th>CODMUN</th>\n",
       "      <th>CODESC</th>\n",
       "      <th>Tem_Nec</th>\n",
       "      <th>porc_ACERT_lp</th>\n",
       "      <th>porc_ACERT_MAT</th>\n",
       "      <th>porc_ACERT_CIE</th>\n",
       "    </tr>\n",
       "  </thead>\n",
       "  <tbody>\n",
       "    <tr>\n",
       "      <th>count</th>\n",
       "      <td>1.205960e+05</td>\n",
       "      <td>120596.000000</td>\n",
       "      <td>120596.000000</td>\n",
       "      <td>120596.000000</td>\n",
       "      <td>120596.000000</td>\n",
       "      <td>120596.000000</td>\n",
       "      <td>120596.000000</td>\n",
       "    </tr>\n",
       "    <tr>\n",
       "      <th>mean</th>\n",
       "      <td>2.734087e+07</td>\n",
       "      <td>364.349075</td>\n",
       "      <td>279415.870510</td>\n",
       "      <td>0.019818</td>\n",
       "      <td>60.151213</td>\n",
       "      <td>52.225829</td>\n",
       "      <td>56.928877</td>\n",
       "    </tr>\n",
       "    <tr>\n",
       "      <th>std</th>\n",
       "      <td>2.946464e+06</td>\n",
       "      <td>220.098318</td>\n",
       "      <td>394245.824543</td>\n",
       "      <td>0.139376</td>\n",
       "      <td>21.730825</td>\n",
       "      <td>21.262466</td>\n",
       "      <td>18.441383</td>\n",
       "    </tr>\n",
       "    <tr>\n",
       "      <th>min</th>\n",
       "      <td>1.739548e+07</td>\n",
       "      <td>100.000000</td>\n",
       "      <td>24.000000</td>\n",
       "      <td>0.000000</td>\n",
       "      <td>0.000000</td>\n",
       "      <td>0.000000</td>\n",
       "      <td>0.000000</td>\n",
       "    </tr>\n",
       "    <tr>\n",
       "      <th>25%</th>\n",
       "      <td>2.529711e+07</td>\n",
       "      <td>100.000000</td>\n",
       "      <td>15568.000000</td>\n",
       "      <td>0.000000</td>\n",
       "      <td>41.700000</td>\n",
       "      <td>37.500000</td>\n",
       "      <td>45.800000</td>\n",
       "    </tr>\n",
       "    <tr>\n",
       "      <th>50%</th>\n",
       "      <td>2.712102e+07</td>\n",
       "      <td>336.000000</td>\n",
       "      <td>35178.000000</td>\n",
       "      <td>0.000000</td>\n",
       "      <td>62.500000</td>\n",
       "      <td>50.000000</td>\n",
       "      <td>58.300000</td>\n",
       "    </tr>\n",
       "    <tr>\n",
       "      <th>75%</th>\n",
       "      <td>2.910558e+07</td>\n",
       "      <td>582.000000</td>\n",
       "      <td>901573.000000</td>\n",
       "      <td>0.000000</td>\n",
       "      <td>79.200000</td>\n",
       "      <td>66.700000</td>\n",
       "      <td>70.800000</td>\n",
       "    </tr>\n",
       "    <tr>\n",
       "      <th>max</th>\n",
       "      <td>3.796186e+07</td>\n",
       "      <td>793.000000</td>\n",
       "      <td>926103.000000</td>\n",
       "      <td>1.000000</td>\n",
       "      <td>100.000000</td>\n",
       "      <td>100.000000</td>\n",
       "      <td>100.000000</td>\n",
       "    </tr>\n",
       "  </tbody>\n",
       "</table>\n",
       "</div>"
      ],
      "text/plain": [
       "           CD_ALUNO         CODMUN         CODESC        Tem_Nec  \\\n",
       "count  1.205960e+05  120596.000000  120596.000000  120596.000000   \n",
       "mean   2.734087e+07     364.349075  279415.870510       0.019818   \n",
       "std    2.946464e+06     220.098318  394245.824543       0.139376   \n",
       "min    1.739548e+07     100.000000      24.000000       0.000000   \n",
       "25%    2.529711e+07     100.000000   15568.000000       0.000000   \n",
       "50%    2.712102e+07     336.000000   35178.000000       0.000000   \n",
       "75%    2.910558e+07     582.000000  901573.000000       0.000000   \n",
       "max    3.796186e+07     793.000000  926103.000000       1.000000   \n",
       "\n",
       "       porc_ACERT_lp  porc_ACERT_MAT  porc_ACERT_CIE  \n",
       "count  120596.000000   120596.000000   120596.000000  \n",
       "mean       60.151213       52.225829       56.928877  \n",
       "std        21.730825       21.262466       18.441383  \n",
       "min         0.000000        0.000000        0.000000  \n",
       "25%        41.700000       37.500000       45.800000  \n",
       "50%        62.500000       50.000000       58.300000  \n",
       "75%        79.200000       66.700000       70.800000  \n",
       "max       100.000000      100.000000      100.000000  "
      ]
     },
     "execution_count": 9,
     "metadata": {},
     "output_type": "execute_result"
    }
   ],
   "source": [
    "###\n",
    "# Dataset statistics\n",
    "###\n",
    "\n",
    "df.describe()"
   ]
  },
  {
   "cell_type": "markdown",
   "metadata": {},
   "source": [
    "In order to analyze the representativeness of the data, some evaluations were made.First, we analyzed how the porcentage of records comming from student that has any special needs. 98% of the data records are from students that dont have any special needs."
   ]
  },
  {
   "cell_type": "code",
   "execution_count": 10,
   "metadata": {},
   "outputs": [
    {
     "data": {
      "text/plain": [
       "0    0.980182\n",
       "1    0.019818\n",
       "Name: Tem_Nec, dtype: float64"
      ]
     },
     "execution_count": 10,
     "metadata": {},
     "output_type": "execute_result"
    }
   ],
   "source": [
    "df['Tem_Nec'].value_counts(normalize=True)"
   ]
  },
  {
   "cell_type": "markdown",
   "metadata": {},
   "source": [
    "Then, we analyzed the porcentage of records comming from girls and boys tests wase evaluated. It is possible to note that 52.23 % of the records are from girls and 47.68 % are from boys"
   ]
  },
  {
   "cell_type": "code",
   "execution_count": 11,
   "metadata": {},
   "outputs": [
    {
     "data": {
      "text/plain": [
       "F    0.523135\n",
       "M    0.476865\n",
       "Name: TP_SEXO, dtype: float64"
      ]
     },
     "execution_count": 11,
     "metadata": {},
     "output_type": "execute_result"
    }
   ],
   "source": [
    "df['TP_SEXO'].value_counts(normalize=True)"
   ]
  },
  {
   "cell_type": "markdown",
   "metadata": {},
   "source": [
    "The next step was the evalaution of  the contribution of the different regions evaluated in the chool Performance Assessment System of the State of São Paulo (SARESP). The Mertropolitan region of São Paulo is the region with the highest participation (39.33 %), followed by the interior (32.51 %). The region with the lowest participation was the Metropolitan region of Campinas with (2.87 %) of participation in the records:"
   ]
  },
  {
   "cell_type": "code",
   "execution_count": 12,
   "metadata": {},
   "outputs": [
    {
     "data": {
      "text/plain": [
       "Região Metropolitana de São Paulo                          0.393355\n",
       "Interior                                                   0.325143\n",
       "Região Metropolitana do Vale do Paraíba e Litoral Norte    0.077507\n",
       "Região Metropolitana da Baixada Santista                   0.063750\n",
       "Região Metropolitana de Sorocaba                           0.055856\n",
       "Região Metropolitana de Ribeirão Preto                     0.055657\n",
       "Região Metropolitana de Campinas                           0.028732\n",
       "Name: RegiaoMetropolitana, dtype: float64"
      ]
     },
     "execution_count": 12,
     "metadata": {},
     "output_type": "execute_result"
    }
   ],
   "source": [
    "df['RegiaoMetropolitana'].value_counts(normalize=True)"
   ]
  },
  {
   "cell_type": "markdown",
   "metadata": {},
   "source": [
    "By the column MUN analyzes it is possible to verify that 351 cities participate in the sense. The city of São Paulo was the municipality that had the highest participation in the evaluation (28% of the records). As the data from the MUN column and the CODMUN provide the same information, the CODMUN will be removed from the analysis. "
   ]
  },
  {
   "cell_type": "code",
   "execution_count": 13,
   "metadata": {},
   "outputs": [
    {
     "data": {
      "text/plain": [
       "SAO PAULO              0.282771\n",
       "SOROCABA               0.027629\n",
       "SAO JOSE DOS CAMPOS    0.024337\n",
       "CARAPICUIBA            0.019039\n",
       "DIADEMA                0.018550\n",
       "                         ...   \n",
       "REDENCAO DA SERRA      0.000017\n",
       "ESTIVA GERBI           0.000017\n",
       "ESTRELA DO NORTE       0.000008\n",
       "ANALANDIA              0.000008\n",
       "AGUAS DE SAO PEDRO     0.000008\n",
       "Name: MUN, Length: 351, dtype: float64"
      ]
     },
     "execution_count": 13,
     "metadata": {},
     "output_type": "execute_result"
    }
   ],
   "source": [
    "df['MUN'].value_counts(normalize=True)"
   ]
  },
  {
   "cell_type": "markdown",
   "metadata": {},
   "source": [
    "Evaluating the School Name and the School Id, it is possible to see that the information of both variables are similar. So we decided to drop the School Name of the data analysis."
   ]
  },
  {
   "cell_type": "code",
   "execution_count": 14,
   "metadata": {},
   "outputs": [
    {
     "data": {
      "text/plain": [
       "ALBERTO SALOTTI PROF EE                  0.003698\n",
       "CARMELINDA MARQUES PEREIRA PROFESSORA    0.002712\n",
       "MIGUEL DE CERVANTES Y SAAVEDRA DOM       0.002645\n",
       "ANA CECILIA MARTINS PROFESSORA           0.002529\n",
       "JOSE MARIA PEREZ FERREIRA PROFESSOR      0.002521\n",
       "                                           ...   \n",
       "PEDRO CASEMIRO LEITE PROFESSOR           0.000008\n",
       "EDMUNDO DE CARVALHO DOUTOR               0.000008\n",
       "ROQUE THEOPHILO                          0.000008\n",
       "RENATO BRAGA PROFESSOR                   0.000008\n",
       "BAIRRO DO TURVO                          0.000008\n",
       "Name: NOMESC, Length: 2746, dtype: float64"
      ]
     },
     "execution_count": 14,
     "metadata": {},
     "output_type": "execute_result"
    }
   ],
   "source": [
    "df['NOMESC'].value_counts(normalize=True)"
   ]
  },
  {
   "cell_type": "markdown",
   "metadata": {},
   "source": [
    " Then, we evaluated the data from the targets in the classification and regression taks:"
   ]
  },
  {
   "cell_type": "code",
   "execution_count": 15,
   "metadata": {},
   "outputs": [],
   "source": [
    "def multiple_hist_plots(n_lines, n_coluns, columns_names, binwidth, dx, dy):\n",
    "    '''\n",
    "    Multiple plots histograms based on columns names\n",
    "    Args:\n",
    "        n_lines: number of lines in subplots\n",
    "        n_columns: number of columns in subplots\n",
    "        columns_names: list of columns names\n",
    "    Returns:\n",
    "        Seaborn histogram subplots\n",
    "    '''\n",
    "    \n",
    "    fig, axes = plt.subplots(n_lines,n_coluns, figsize=(9,4))\n",
    "    for i,column_name in enumerate(columns_names):\n",
    "        sns.histplot(data=df[column_name], binwidth=binwidth, kde=True, ax=axes[i]).set(title=column_name)\n",
    "        fig.axes[i].axvline(x=df[column_name].median(), color='red', ls='--', lw=2.5)\n",
    "        fig.axes[i].text(df[column_name].median()+dx,dy,f'{df[column_name].median()}',fontsize=12, rotation=90)\n",
    "        \n",
    "    \n",
    "    plt.setp(axes, yticks=[])\n",
    "    plt.tight_layout()\n",
    "    \n",
    "def multiple_cat_plot(df, n_lines, n_coluns, columns_names, binwidth):\n",
    "    '''Multiple plots histograms based on columns names\n",
    "    Args:\n",
    "        n_lines: number of lines in subplots\n",
    "        n_columns: number of columns in subplots\n",
    "        columns_names: list of columns names\n",
    "    Returns:\n",
    "        Seaborn histogram subplots\n",
    "    '''\n",
    "    df_cat = df.copy()\n",
    "    fig, axes = plt.subplots(n_lines,n_coluns, figsize=(16,6))\n",
    "    for i,column_name in enumerate(columns_names):\n",
    "        df_cat[column_name] = pd.Categorical(df_cat[column_name], ['Abaixo do Básico', 'Básico', 'Adequado', 'Avançado'])\n",
    "        sns.histplot(data=df_cat[column_name], binwidth=binwidth, kde=False, ax=axes[i]).set(title=column_name)\n",
    "    \n",
    "    plt.setp(axes, yticks=[])\n",
    "    plt.tight_layout()"
   ]
  },
  {
   "cell_type": "markdown",
   "metadata": {},
   "source": [
    "Evaluating the data about the the proficiency level in Portuguese, Math and Natural Sciences Test it is possible to note that Portuguese and Maths were the subejcts that the students performed better and worse respectively."
   ]
  },
  {
   "cell_type": "code",
   "execution_count": 16,
   "metadata": {
    "scrolled": true
   },
   "outputs": [
    {
     "data": {
      "image/png": "[encoded data removed]",
      "text/plain": [
       "<Figure size 1600x600 with 3 Axes>"
      ]
     },
     "metadata": {},
     "output_type": "display_data"
    }
   ],
   "source": [
    "nivel_profic_hist_plots = multiple_cat_plot(df,1,3,['nivel_profic_lp', 'nivel_profic_mat', 'nivel_profic_cie'],0.8)"
   ]
  },
  {
   "cell_type": "markdown",
   "metadata": {},
   "source": [
    "Analyzing the distribution of the data in the target variables related to the level of proficiency, we noticed that we are working with unbalanced classes in the classification task(Logistic Regression). As it is possible to check in the next cell, in subejcts, wehave more examples os class 'Basico' and less examples of class 'Avançado'. We can see that this analysis  corroborates with the distribution present in the graph"
   ]
  },
  {
   "cell_type": "code",
   "execution_count": 17,
   "metadata": {},
   "outputs": [
    {
     "name": "stdout",
     "output_type": "stream",
     "text": [
      "Básico              0.453456\n",
      "Adequado            0.264876\n",
      "Abaixo do Básico    0.227255\n",
      "Avançado            0.054413\n",
      "Name: nivel_profic_lp, dtype: float64\n",
      "Básico              0.450214\n",
      "Abaixo do Básico    0.372243\n",
      "Adequado            0.142061\n",
      "Avançado            0.035482\n",
      "Name: nivel_profic_mat, dtype: float64\n",
      "Básico              0.441399\n",
      "Abaixo do Básico    0.296511\n",
      "Adequado            0.206657\n",
      "Avançado            0.055433\n",
      "Name: nivel_profic_cie, dtype: float64\n"
     ]
    }
   ],
   "source": [
    "columns_name = ['nivel_profic_lp','nivel_profic_mat','nivel_profic_cie']\n",
    "\n",
    "for column_name in columns_name:\n",
    "    print(df[column_name].value_counts(normalize=True))"
   ]
  },
  {
   "cell_type": "markdown",
   "metadata": {},
   "source": [
    " Then, we evaluated the histogram distribuction of the Percentage of correct answers in Portuguese, Mathematics and Natural Sciences Test.With the plots it is possible to conclude that the students perfomed better on Portuguese test, with the percentage in almost 62.5 %. The math test was the test where the students performed worse, with a hit percentage around 50.0 %. In Natural Sciences tests the students had hit percentage around 58.3 %. Comparing the distribution of histograms, it is possible to verify that in the math test that is a greater occurence of lower scores than the other tests. So, the datas of percentage of correct answers corroborate with the level of proficiency data."
   ]
  },
  {
   "cell_type": "code",
   "execution_count": 18,
   "metadata": {
    "scrolled": true
   },
   "outputs": [
    {
     "data": {
      "image/png": "[encoded data removed]",
      "text/plain": [
       "<Figure size 900x400 with 3 Axes>"
      ]
     },
     "metadata": {},
     "output_type": "display_data"
    }
   ],
   "source": [
    "por_acert_hist_plots = multiple_hist_plots(1,3,['porc_ACERT_MAT','porc_ACERT_lp','porc_ACERT_CIE'],10,1,700)"
   ]
  },
  {
   "cell_type": "markdown",
   "metadata": {},
   "source": [
    "With the .describe method of the columns related to the percentage of hits in Math, Portuguese and Sciences, it is possible to note that there is no outliers in the notes. Math Subject was the subject where more students have lower grades, 50% of the students have grades with values up to 50.00 , in contrast, in Portuguese Subject, 50% of the students reached grades until 62.50. "
   ]
  },
  {
   "cell_type": "code",
   "execution_count": 19,
   "metadata": {},
   "outputs": [
    {
     "data": {
      "text/html": [
       "<div>\n",
       "<style scoped>\n",
       "    .dataframe tbody tr th:only-of-type {\n",
       "        vertical-align: middle;\n",
       "    }\n",
       "\n",
       "    .dataframe tbody tr th {\n",
       "        vertical-align: top;\n",
       "    }\n",
       "\n",
       "    .dataframe thead th {\n",
       "        text-align: right;\n",
       "    }\n",
       "</style>\n",
       "<table border=\"1\" class=\"dataframe\">\n",
       "  <thead>\n",
       "    <tr style=\"text-align: right;\">\n",
       "      <th></th>\n",
       "      <th>porc_ACERT_MAT</th>\n",
       "      <th>porc_ACERT_lp</th>\n",
       "      <th>porc_ACERT_CIE</th>\n",
       "    </tr>\n",
       "  </thead>\n",
       "  <tbody>\n",
       "    <tr>\n",
       "      <th>count</th>\n",
       "      <td>120596.000000</td>\n",
       "      <td>120596.000000</td>\n",
       "      <td>120596.000000</td>\n",
       "    </tr>\n",
       "    <tr>\n",
       "      <th>mean</th>\n",
       "      <td>52.225829</td>\n",
       "      <td>60.151213</td>\n",
       "      <td>56.928877</td>\n",
       "    </tr>\n",
       "    <tr>\n",
       "      <th>std</th>\n",
       "      <td>21.262466</td>\n",
       "      <td>21.730825</td>\n",
       "      <td>18.441383</td>\n",
       "    </tr>\n",
       "    <tr>\n",
       "      <th>min</th>\n",
       "      <td>0.000000</td>\n",
       "      <td>0.000000</td>\n",
       "      <td>0.000000</td>\n",
       "    </tr>\n",
       "    <tr>\n",
       "      <th>25%</th>\n",
       "      <td>37.500000</td>\n",
       "      <td>41.700000</td>\n",
       "      <td>45.800000</td>\n",
       "    </tr>\n",
       "    <tr>\n",
       "      <th>50%</th>\n",
       "      <td>50.000000</td>\n",
       "      <td>62.500000</td>\n",
       "      <td>58.300000</td>\n",
       "    </tr>\n",
       "    <tr>\n",
       "      <th>75%</th>\n",
       "      <td>66.700000</td>\n",
       "      <td>79.200000</td>\n",
       "      <td>70.800000</td>\n",
       "    </tr>\n",
       "    <tr>\n",
       "      <th>max</th>\n",
       "      <td>100.000000</td>\n",
       "      <td>100.000000</td>\n",
       "      <td>100.000000</td>\n",
       "    </tr>\n",
       "  </tbody>\n",
       "</table>\n",
       "</div>"
      ],
      "text/plain": [
       "       porc_ACERT_MAT  porc_ACERT_lp  porc_ACERT_CIE\n",
       "count   120596.000000  120596.000000   120596.000000\n",
       "mean        52.225829      60.151213       56.928877\n",
       "std         21.262466      21.730825       18.441383\n",
       "min          0.000000       0.000000        0.000000\n",
       "25%         37.500000      41.700000       45.800000\n",
       "50%         50.000000      62.500000       58.300000\n",
       "75%         66.700000      79.200000       70.800000\n",
       "max        100.000000     100.000000      100.000000"
      ]
     },
     "execution_count": 19,
     "metadata": {},
     "output_type": "execute_result"
    }
   ],
   "source": [
    "df[['porc_ACERT_MAT','porc_ACERT_lp','porc_ACERT_CIE']].describe()"
   ]
  },
  {
   "cell_type": "markdown",
   "metadata": {},
   "source": [
    "With a correlation matrix it is possible to note how the features related with the proeficiency level of one subject have strong correlation with the proeficiency leval of another subject. In this first moment, the correlation matrix is making correlations only with variables with the same structure, in this case only categorical variables are being compared."
   ]
  },
  {
   "cell_type": "code",
   "execution_count": 33,
   "metadata": {},
   "outputs": [
    {
     "data": {
      "text/plain": [
       "<AxesSubplot:>"
      ]
     },
     "execution_count": 33,
     "metadata": {},
     "output_type": "execute_result"
    },
    {
     "data": {
      "image/png": "[encoded data removed]",
      "text/plain": [
       "<Figure size 300x300 with 2 Axes>"
      ]
     },
     "metadata": {},
     "output_type": "display_data"
    }
   ],
   "source": [
    "df_corr = df.corr()\n",
    "fig, axes = plt.subplots(figsize=(3,3))\n",
    "sns.heatmap(df_corr, cmap='mako')"
   ]
  },
  {
   "cell_type": "markdown",
   "metadata": {},
   "source": [
    "## Data Preparation:"
   ]
  },
  {
   "cell_type": "markdown",
   "metadata": {},
   "source": [
    "In order to create a preprocess pipeline valid for both problems (classification and regression), some function were created. In this pipeline, categorical variables are trasnformed into numerical variables by one hot encoding process. The functions are described in the cells below. \n"
   ]
  },
  {
   "cell_type": "code",
   "execution_count": null,
   "metadata": {},
   "outputs": [],
   "source": [
    "def categorical_into_numeric(X):\n",
    "    \n",
    "    le = OneHotEncoder()\n",
    "    columns_names = X.columns.to_list()\n",
    "    column_object_names = []\n",
    "    for column_name in columns_names:\n",
    "        if X[str(column_name)].dtype == object or column_name == \"CODESC\":\n",
    "            transformed = le.fit_transform(X[str(column_name)].values[:, None]).toarray()\n",
    "            for cat in range(transformed.shape[1]):\n",
    "                X[f\"{str(column_name)}_{cat}\"] = transformed[:, cat]\n",
    "            X = X.drop(columns=column_name)\n",
    "            \n",
    "    return X\n",
    "\n",
    "def feature_target_split(X, column_name):\n",
    "    \n",
    "    X_column = X.copy()\n",
    "    y_column = df[[column_name]].values\n",
    "    \n",
    "    return X_column, y_column\n",
    "\n",
    "def data_transform(df, columns_names):\n",
    "        \n",
    "    X = df.drop([columns_names[0], columns_names[1], columns_names[2]], axis=1)\n",
    "    numeric_X = categorical_into_numeric(X)\n",
    "    X_lp, y_lp = feature_target_split(numeric_X, columns_names[0])\n",
    "    X_math, y_math = feature_target_split(numeric_X, columns_names[1])\n",
    "    X_cie, y_cie = feature_target_split(numeric_X, columns_names[2])\n",
    "                                         \n",
    "    return X_lp, y_lp, X_math, y_math, X_cie, y_cie     \n"
   ]
  },
  {
   "cell_type": "markdown",
   "metadata": {},
   "source": [
    "The first step was to drop the common columns for both problems and then replace the categorical targets for numerical ones. Posteriorly, the targets of the regression taks were dropped."
   ]
  },
  {
   "cell_type": "code",
   "execution_count": null,
   "metadata": {},
   "outputs": [],
   "source": [
    "#dropping common columns for both problems (lienar and logistic regression)\n",
    "df = df.drop(columns=['CD_ALUNO', 'CODESC', 'CODMUN', 'DT_NASCIMENTO', 'NOMESC','MUN'])\n",
    "\n",
    "df = df.replace({'Básico':0, 'Adequado':1,'Abaixo do Básico':2,'Avançado':3})\n",
    "\n",
    "#dropping columns for linear regression method\n",
    "df_linear = df.drop(columns=['nivel_profic_lp', 'nivel_profic_mat','nivel_profic_cie'])"
   ]
  },
  {
   "cell_type": "markdown",
   "metadata": {},
   "source": [
    "Then, the data was submitted to the transformation pipeline, transforming categorical into numeric variables"
   ]
  },
  {
   "cell_type": "code",
   "execution_count": null,
   "metadata": {
    "jupyter": {
     "outputs_hidden": true
    },
    "tags": []
   },
   "outputs": [],
   "source": [
    "X_lp, y_lp, X_math, y_math, X_cie, y_cie = data_transform(df_linear,['porc_ACERT_MAT', 'porc_ACERT_lp','porc_ACERT_CIE'])"
   ]
  },
  {
   "cell_type": "markdown",
   "metadata": {},
   "source": [
    "### Train Validation Split:"
   ]
  },
  {
   "cell_type": "markdown",
   "metadata": {},
   "source": [
    "In order to validate our training step, we devided the data into train and validation sets with 80 and 20% of the data respectivily. For this, we used the train_test_split function from sklearn and we set a random_state in with the objective to ensure reproducibility."
   ]
  },
  {
   "cell_type": "code",
   "execution_count": null,
   "metadata": {},
   "outputs": [],
   "source": [
    "#Portuguese:\n",
    "x_train_lp, x_val_lp, y_train_lp, y_val_lp = train_test_split(X_lp, y_lp, test_size=0.20, random_state=SEED)\n",
    "\n",
    "#Math\n",
    "x_train_math, x_val_math, y_train_math, y_val_math = train_test_split(X_math, y_math, test_size=0.20, random_state=SEED)\n",
    "\n",
    "#Sciences:\n",
    "x_train_cie, x_val_cie, y_train_cie, y_val_cie = train_test_split(X_cie, y_cie, test_size=0.20, random_state=SEED)"
   ]
  },
  {
   "cell_type": "markdown",
   "metadata": {},
   "source": [
    "The data were trained and evaluated both by the regression model created by the duo and by the moedls avaiable in the ckit-learn library"
   ]
  },
  {
   "cell_type": "code",
   "execution_count": null,
   "metadata": {
    "id": "D9cpdif9JxFR"
   },
   "outputs": [],
   "source": [
    "# TODO: Linear Regression. Implement your solution. You cannot use scikit-learn, Keras/TensorFlow, or PyTorch libraries.\n",
    "\n",
    "\n",
    "class MyLinearRegression:\n",
    "    def __init__(self, n_features):\n",
    "        self.n_thetas = n_features + 1\n",
    "        self.theta_0 = np.random.uniform(low=-1, high=1, size=1)\n",
    "        self.thetas = np.asmatrix(np.random.uniform(low=-1, high=1, size=n_features)).T\n",
    "\n",
    "        self.train_cost = []\n",
    "        self.valid_cost = []\n",
    "        \n",
    "        \n",
    "    def h_theta(self, x):\n",
    "        return self.theta_0 + x*self.thetas\n",
    "    \n",
    "    \n",
    "    def gradient(self, X, y):\n",
    "        X = np.asmatrix(X.values)\n",
    "        y = np.asmatrix(y)\n",
    "        m = len(y)\n",
    "        ht = self.h_theta(X)\n",
    "        grad_theta_0 = 1/m * (ht - y).sum()\n",
    "        grad_thetas = np.zeros(len(self.thetas)) \n",
    "        for i in range(len(grad_thetas)):\n",
    "            grad_thetas[i] = 1/m * (ht - y).T*X[:,i]\n",
    "        return grad_theta_0, grad_thetas\n",
    "\n",
    "\n",
    "    def theta_update(self, grad_theta_0, grad_thetas, learning_rate):\n",
    "        self.theta_0 = self.theta_0 - learning_rate*grad_theta_0\n",
    "        self.thetas = self.thetas - learning_rate*(np.asmatrix(grad_thetas).T)\n",
    "\n",
    "\n",
    "    def cost(self, X, y):\n",
    "        X = np.asmatrix(np.array(X))\n",
    "        y = np.asmatrix(np.array(y))\n",
    "        m = len(y) \n",
    "        ht = self.h_theta(X)        \n",
    "        return float( 1/2*m * (ht - y).T * (ht - y) )\n",
    "\n",
    "\n",
    "    def fit(self, X, y, learning_rate, n_epochs, size_batches, validX, validy, verbose=False):\n",
    "        for epoch in range(n_epochs + 1):\n",
    "            n_batches = int( len(X) / size_batches )\n",
    "            for en, (batchX, batchy) in enumerate( zip(np.array_split(X, n_batches), np.array_split(y, n_batches)) ):                \n",
    "                grad_theta_0, grad_thetas = self.gradient(batchX, batchy)\n",
    "                self.theta_update(grad_theta_0, grad_thetas, learning_rate=learning_rate)                  \n",
    "             \n",
    "            if verbose and (epoch%10 == 0):\n",
    "                print('Epoch: {:04d} | Num. batches: {} | Cost function: {}'.format(epoch, n_batches, int( self.cost(X, y))))\n",
    "                \n",
    "            self.train_cost.append( self.cost(batchX, batchy ) )\n",
    "            self.valid_cost.append( self.cost(validX, validy ) )    \n"
   ]
  },
  {
   "cell_type": "code",
   "execution_count": null,
   "metadata": {},
   "outputs": [],
   "source": [
    "# Portuguese\n",
    "mlr = MyLinearRegression(n_features=X_lp.shape[1])\n",
    "mlr.fit(x_train_lp, y_train_lp, learning_rate=0.001, n_epochs=100, size_batches=10240, validX=x_val_lp, validy=y_val_lp, verbose=True)\n",
    "\n",
    "ax = sns.lineplot(pd.DataFrame.from_dict( {'training' : mlr.train_cost, 'validation' : mlr.valid_cost} ))\n",
    "ax.set_title('Cost Evolution for Portuguese Target')\n",
    "ax.set_xlabel('Epochs')\n",
    "plt.show()"
   ]
  },
  {
   "cell_type": "code",
   "execution_count": null,
   "metadata": {},
   "outputs": [],
   "source": [
    "# Math\n",
    "mlr = MyLinearRegression(n_features=X_lp.shape[1])\n",
    "mlr.fit(x_train_math, y_train_math, learning_rate=0.001, n_epochs=100, size_batches=10240, validX=x_val_math, validy=y_val_math, verbose=True)\n",
    "\n",
    "ax = sns.lineplot(pd.DataFrame.from_dict( {'training' : mlr.train_cost, 'validation' : mlr.valid_cost} ))\n",
    "ax.set_title('Cost Evolution for Math Target')\n",
    "ax.set_xlabel('Epochs')\n",
    "plt.show()"
   ]
  },
  {
   "cell_type": "code",
   "execution_count": null,
   "metadata": {},
   "outputs": [],
   "source": [
    "# Science\n",
    "mlr = MyLinearRegression(n_features=X_lp.shape[1])\n",
    "mlr.fit(x_train_cie, y_train_cie, learning_rate=0.001, n_epochs=100, size_batches=10240, validX=x_val_cie, validy=y_val_cie, verbose=True)\n",
    "\n",
    "ax = sns.lineplot(pd.DataFrame.from_dict( {'training' : mlr.train_cost, 'validation' : mlr.valid_cost} ))\n",
    "ax.set_title('Cost Evolution for Science Target')\n",
    "ax.set_xlabel('Epochs')\n",
    "plt.show()"
   ]
  },
  {
   "cell_type": "code",
   "execution_count": null,
   "metadata": {
    "id": "e4nZrMr_C2X7"
   },
   "outputs": [],
   "source": [
    "# TODO: Linear Regression. You can use scikit-learn libraries."
   ]
  },
  {
   "cell_type": "code",
   "execution_count": null,
   "metadata": {},
   "outputs": [],
   "source": [
    "def model_train_and_evaluation(x_train, y_train, x_val, y_val, learning_rate):\n",
    "    \n",
    "    #Creating an object of the model\n",
    "    model = SGDRegressor(max_iter=2000,random_state=SEED, learning_rate='invscaling', eta0=learning_rate)\n",
    "    #Fitting the model with the trainning data\n",
    "    model.fit(x_train, y_train)\n",
    "    \n",
    "    print(f'Model intercept value : {model.intercept_}')\n",
    "#     print(f' Coeficients : {model.coef_}')\n",
    "    \n",
    "    y_pred = model.predict(x_val)\n",
    "    \n",
    "    print('\\n')\n",
    "    \n",
    "    print(f\"Mean Absolut error: {mean_absolute_error(y_val, y_pred)}\")\n",
    "    print(f\"R2 Score: {r2_score(y_val, y_pred)}\")\n"
   ]
  },
  {
   "cell_type": "code",
   "execution_count": null,
   "metadata": {},
   "outputs": [],
   "source": [
    "math_test = model_train_and_evaluation(x_train_math, y_train_math.squeeze(1),x_val_math, y_val_math.squeeze(1), 0.001)"
   ]
  },
  {
   "cell_type": "code",
   "execution_count": null,
   "metadata": {},
   "outputs": [],
   "source": [
    "lp_test = model_train_and_evaluation(x_train_lp, y_train_lp,x_val_lp, y_val_lp, 0.001)"
   ]
  },
  {
   "cell_type": "code",
   "execution_count": null,
   "metadata": {},
   "outputs": [],
   "source": [
    "cie_test = model_train_and_evaluation(x_train_cie, y_train_cie,x_val_cie, y_val_cie,  0.001)"
   ]
  },
  {
   "cell_type": "markdown",
   "metadata": {
    "id": "zBNZQNImKQeo"
   },
   "source": [
    "\n",
    "> What are the conclusions? (1-2 paragraphs)\n",
    "\n",
    "\n"
   ]
  },
  {
   "cell_type": "markdown",
   "metadata": {
    "id": "ADxPBRhuK_Vq"
   },
   "source": [
    "2. (1 point) Use different Gradient Descent (GD) learning rates when optimizing. Compare the GD-based solutions with Normal Equation. What are the conclusions?\n"
   ]
  },
  {
   "cell_type": "code",
   "execution_count": null,
   "metadata": {
    "id": "RSZ1pLItNVbU"
   },
   "outputs": [],
   "source": [
    "# TODO: Gradient Descent (GD) with 3 different learning rates. You can use scikit-learn libraries."
   ]
  },
  {
   "cell_type": "markdown",
   "metadata": {},
   "source": [
    "### Normal:"
   ]
  },
  {
   "cell_type": "code",
   "execution_count": null,
   "metadata": {},
   "outputs": [],
   "source": [
    "def model_normal_solution(x_train, y_train, x_val, y_val):\n",
    "    \n",
    "    #Creating an object of the model\n",
    "    model = LinearRegression()\n",
    "    #Fitting the model with the trainning data\n",
    "    model.fit(x_train, y_train)\n",
    "    \n",
    "    print(f'Model intercept value : {model.intercept_}')\n",
    "    print(f' Coeficients : {model.coef_}')\n",
    "    \n",
    "    y_pred = model.predict(x_val)\n",
    "    \n",
    "    print('\\n')\n",
    "    \n",
    "    print(f\"Mean squared error: {mean_squared_error(y_val, y_pred)}\")\n",
    "    print(f\"R2 Score: {r2_score(y_val, y_pred)}\")\n"
   ]
  },
  {
   "cell_type": "markdown",
   "metadata": {},
   "source": [
    "#### Portuguese:"
   ]
  },
  {
   "cell_type": "code",
   "execution_count": null,
   "metadata": {
    "scrolled": true
   },
   "outputs": [],
   "source": [
    "lp_test = model_train_and_evaluation(x_train_lp, y_train_lp,x_val_lp, y_val_lp, 0.0001)"
   ]
  },
  {
   "cell_type": "code",
   "execution_count": null,
   "metadata": {},
   "outputs": [],
   "source": [
    "lp_test = model_train_and_evaluation(x_train_lp, y_train_lp,x_val_lp, y_val_lp, 0.1)"
   ]
  },
  {
   "cell_type": "code",
   "execution_count": null,
   "metadata": {},
   "outputs": [],
   "source": [
    "lp_test = model_train_and_evaluation(x_train_lp, y_train_lp,x_val_lp, y_val_lp, 0.005)"
   ]
  },
  {
   "cell_type": "markdown",
   "metadata": {},
   "source": [
    "#### Math"
   ]
  },
  {
   "cell_type": "code",
   "execution_count": null,
   "metadata": {},
   "outputs": [],
   "source": [
    "math_test = model_train_and_evaluation(x_train_math, y_train_math,x_val_math, y_val_math, 0.0001)"
   ]
  },
  {
   "cell_type": "code",
   "execution_count": null,
   "metadata": {},
   "outputs": [],
   "source": [
    "math_test = model_train_and_evaluation(x_train_math, y_train_math,x_val_math, y_val_math, 0.1)"
   ]
  },
  {
   "cell_type": "code",
   "execution_count": null,
   "metadata": {},
   "outputs": [],
   "source": [
    "math_test = model_train_and_evaluation(x_train_math, y_train_math,x_val_math, y_val_math, 0.005)"
   ]
  },
  {
   "cell_type": "markdown",
   "metadata": {},
   "source": [
    "#### Sciences:"
   ]
  },
  {
   "cell_type": "code",
   "execution_count": null,
   "metadata": {},
   "outputs": [],
   "source": [
    "cie_test = model_train_and_evaluation(x_train_cie, y_train_cie,x_val_cie, y_val_cie,  0.0001)"
   ]
  },
  {
   "cell_type": "code",
   "execution_count": null,
   "metadata": {},
   "outputs": [],
   "source": [
    "cie_test = model_train_and_evaluation(x_train_cie, y_train_cie,x_val_cie, y_val_cie,  0.01)"
   ]
  },
  {
   "cell_type": "code",
   "execution_count": null,
   "metadata": {},
   "outputs": [],
   "source": [
    "cie_test = model_train_and_evaluation(x_train_cie, y_train_cie,x_val_cie, y_val_cie,  0.0005)"
   ]
  },
  {
   "cell_type": "markdown",
   "metadata": {
    "id": "XrPl7jKgJPW6"
   },
   "source": [
    "\n",
    "3. (0.75 point) Sometimes, we need some more complex function to make good prediction. Devise and evaluate a Polynomial Linear Regression model. \n"
   ]
  },
  {
   "cell_type": "code",
   "execution_count": null,
   "metadata": {},
   "outputs": [],
   "source": [
    "# # TODO: Complex model. You can use scikit-learn libraries.\n",
    "# from sklearn.preprocessing import PolynomialFeatures\n",
    "\n",
    "# fit_transform = PolynomialFeatures(2).fit_transform\n",
    "\n",
    "# fit_transform( x_train_lp )\n",
    "# x_train_lp.shape\n",
    "# #lp_test = model_train_and_evaluation( fit_transform( x_train_lp ), fit_transform( y_train_lp ), fit_transform( x_val_lp ), fit_transform( y_val_lp) , 0.1)"
   ]
  },
  {
   "cell_type": "markdown",
   "metadata": {
    "id": "rBLKtosaLaCw"
   },
   "source": [
    "*texto em itálico*\n",
    " > What are the conclusions? What are the actions after such analyses? (1-2 paragraphs)\n",
    "\n",
    " \n"
   ]
  },
  {
   "cell_type": "markdown",
   "metadata": {},
   "source": [
    "With the analysis was possible to see the role of the learning rate in the modeling step. In all the cases, with lar tge learning_rate values (0.1), the model result was worst, but when the values were smaller, the model had its results improved. When model methodologies are compared (linear x polynomial logistic regression) it is possible to note that the data modeling and pre-processing may vary due to the particularities of the model. \n",
    "\n",
    "In the case of the polynomial regression, some features had to be removed from the analysis because of hardware memory issues. When the linear regression model was evaluated without the features that were removed in polynomial regression model, there was a worsening in the performance of the linear regression model. It is also relevant to point out the importance of the role of exploratory data analysis to understand which features could be removed in the polynomial features selection."
   ]
  },
  {
   "cell_type": "markdown",
   "metadata": {
    "id": "ldSh1vtWK5Zk"
   },
   "source": [
    "4. (0.5) Plot the cost function vs. number of epochs in the training/validation set and analyze the model. "
   ]
  },
  {
   "cell_type": "code",
   "execution_count": null,
   "metadata": {
    "id": "mg7aNkl_LG4P"
   },
   "outputs": [],
   "source": [
    "# TODO: Plot the cost function vs. number of iterations in the training set."
   ]
  },
  {
   "cell_type": "markdown",
   "metadata": {
    "id": "CfR862UoK9j6"
   },
   "source": [
    "*texto em itálico*\n",
    " > What are the conclusions? What are the actions after such analyses? (1-2 paragraphs)"
   ]
  },
  {
   "cell_type": "markdown",
   "metadata": {
    "id": "8Xij-E5UUseS"
   },
   "source": [
    "5. (0.25 point) Pick **your best model**, based on your validation set, and predict the target values for the test set."
   ]
  },
  {
   "cell_type": "markdown",
   "metadata": {
    "id": "h_PobUahUseS"
   },
   "source": [
    "## Logistic Regression"
   ]
  },
  {
   "cell_type": "markdown",
   "metadata": {
    "id": "SCJuwjrAUseS"
   },
   "source": [
    "Now, this part of the assignment aims to predict students' proeficiency level on Portuguese, Mathematics, and Natural Sciences (target values: `nivel_profic_lp`, `nivel_profic_mat` and `nivel_profic_cie`) based on their socioeconomic data. Then, you have to **drop the columns `porc_ACERT_lp`,  `porc_ACERT_MAT`** and  **`porc_ACERT_CIE`**."
   ]
  },
  {
   "cell_type": "markdown",
   "metadata": {
    "id": "joYtn8avUseS"
   },
   "source": [
    "### Activities\n",
    "\n",
    "1. (2.75 points) Perform Multinomial Logistic Regression (_i.e._, softmax regression). It is a generalization of Logistic Regression to the case where we want to handle multiple classes. Try different combinations of features, dropping the ones less correlated to the target variables."
   ]
  },
  {
   "cell_type": "code",
   "execution_count": null,
   "metadata": {
    "id": "-36Dt2V_UseT"
   },
   "outputs": [],
   "source": [
    "# TODO: Multinomial Logistic Regression. You can use scikit-learn libraries."
   ]
  },
  {
   "cell_type": "markdown",
   "metadata": {},
   "source": [
    "In order to perform Logistic regression, a new dataframe was created with the relevant variables to the modeling. Then, this dataframe was been submited to the categorical to numerical transform pipeline"
   ]
  },
  {
   "cell_type": "code",
   "execution_count": null,
   "metadata": {},
   "outputs": [],
   "source": [
    "df_logistic = df.drop(columns=['porc_ACERT_lp','porc_ACERT_MAT', 'porc_ACERT_CIE'])"
   ]
  },
  {
   "cell_type": "code",
   "execution_count": null,
   "metadata": {},
   "outputs": [],
   "source": [
    "X_lp_log, y_lp_log, X_math_log, y_math_log, X_cie_log, y_cie_log = data_transform(df_logistic,['nivel_profic_lp', 'nivel_profic_mat','nivel_profic_cie'])"
   ]
  },
  {
   "cell_type": "code",
   "execution_count": null,
   "metadata": {},
   "outputs": [],
   "source": [
    "#Portuguese:\n",
    "x_train_lp_log, x_val_lp_log, y_train_lp_log, y_val_lp_log = train_test_split(X_lp_log, y_lp_log, test_size=0.20, random_state=SEED)\n",
    "\n",
    "#Math\n",
    "x_train_math_log, x_val_math_log, y_train_math_log, y_val_math_log = train_test_split(X_math_log, y_math_log, test_size=0.20, random_state=SEED)\n",
    "\n",
    "#Sciences:\n",
    "x_train_cie_log, x_val_cie_log, y_train_cie_log, y_val_cie_log = train_test_split(X_cie_log, y_cie_log, test_size=0.20, random_state=SEED)"
   ]
  },
  {
   "cell_type": "code",
   "execution_count": null,
   "metadata": {},
   "outputs": [],
   "source": [
    "def model_train_and_evaluation_logistic(x_train, y_train, x_val, y_val, ticklabels=['Básico','Adequado','Abaixo do Básico','Avançado']):\n",
    "    \n",
    "    model_logistic = LogisticRegression(random_state=SEED, penalty='l2')\n",
    "    model_logistic.fit(x_train, y_train)\n",
    "    y_pred = model_logistic.predict(x_val)\n",
    "    \n",
    "    confusion = confusion_matrix(y_val, y_pred, normalize='true')\n",
    "    accuracy = balanced_accuracy_score(y_val, y_pred)\n",
    "    \n",
    "    sns.heatmap(confusion, annot=True, linewidths=.5,cmap=\"mako\",\n",
    "                xticklabels=ticklabels, yticklabels=ticklabels)\n",
    "    \n",
    "    print(f\"Balanced Accuracy Score: {accuracy}\")\n",
    "    print('\\n')\n",
    "    \n",
    "   "
   ]
  },
  {
   "cell_type": "code",
   "execution_count": null,
   "metadata": {},
   "outputs": [],
   "source": [
    "model_logistic_pt = model_train_and_evaluation_logistic(x_train_lp_log, y_train_lp_log, x_val_lp_log, y_val_lp_log)"
   ]
  },
  {
   "cell_type": "code",
   "execution_count": null,
   "metadata": {},
   "outputs": [],
   "source": [
    "model_logistic_pt = model_train_and_evaluation_logistic(x_train_math_log, y_train_math_log, x_val_math_log, y_val_math_log)"
   ]
  },
  {
   "cell_type": "code",
   "execution_count": null,
   "metadata": {},
   "outputs": [],
   "source": [
    "model_logistic_pt = model_train_and_evaluation_logistic(x_train_cie_log, y_train_cie_log, x_val_cie_log, y_val_cie_log)"
   ]
  },
  {
   "cell_type": "markdown",
   "metadata": {
    "id": "WQj3oImUUseT"
   },
   "source": [
    "> What are the conclusions? (1-2 paragraphs)\n"
   ]
  },
  {
   "cell_type": "markdown",
   "metadata": {
    "id": "yb1KNEqLUseT"
   },
   "source": [
    "2. (0.5 point) Plot the cost function vs. number of epochs in the training/validation set and analyze the model. "
   ]
  },
  {
   "cell_type": "code",
   "execution_count": null,
   "metadata": {
    "id": "wfECeHi3UseT"
   },
   "outputs": [],
   "source": [
    "# TODO: Plot the cost function vs. number of iterations in the training set."
   ]
  },
  {
   "cell_type": "markdown",
   "metadata": {
    "id": "-IM4mx23UseT"
   },
   "source": [
    "> What are the conclusions? (1-2 paragraphs)\n"
   ]
  },
  {
   "cell_type": "markdown",
   "metadata": {
    "id": "Lqlv9-6OUseT"
   },
   "source": [
    "3. (0.75 point) Pick **your best model** and plot the confusion matrix in the **test set**. \n"
   ]
  },
  {
   "cell_type": "code",
   "execution_count": null,
   "metadata": {
    "id": "-jdyJuS0UseT"
   },
   "outputs": [],
   "source": [
    "# TODO: Plot the confusion matrix. You can use scikit-learn, seaborn, matplotlib libraries."
   ]
  },
  {
   "cell_type": "markdown",
   "metadata": {
    "id": "xAmCj0cpUseT"
   },
   "source": [
    "> What are the conclusions? (1-2 paragraphs)\n"
   ]
  },
  {
   "cell_type": "markdown",
   "metadata": {
    "id": "kdSGS4brHnAi"
   },
   "source": [
    "## Deadline\n",
    "\n",
    "Monday, September 19, 11:59 pm. \n",
    "\n",
    "Penalty policy for late submission: You are not encouraged to submit your assignment after due date. However, in case you do, your grade will be penalized as follows:\n",
    "- September 20, 11:59 pm : grade * 0.75\n",
    "- September 21, 11:59 pm : grade * 0.5\n",
    "- September 22, 11:59 pm : grade * 0.25\n"
   ]
  },
  {
   "cell_type": "markdown",
   "metadata": {
    "id": "joN9pvZJIfW5"
   },
   "source": [
    "## Submission\n",
    "\n",
    "On Google Classroom, submit your Jupyter Notebook (in Portuguese or English).\n",
    "\n",
    "**This activity is NOT individual, it must be done in pairs (two-person group).**"
   ]
  }
 ],
 "metadata": {
  "accelerator": "GPU",
  "colab": {
   "provenance": []
  },
  "kernelspec": {
   "display_name": "Python 3 (ipykernel)",
   "language": "python",
   "name": "python3"
  },
  "language_info": {
   "codemirror_mode": {
    "name": "ipython",
    "version": 3
   },
   "file_extension": ".py",
   "mimetype": "text/x-python",
   "name": "python",
   "nbconvert_exporter": "python",
   "pygments_lexer": "ipython3",
   "version": "3.10.4"
  }
 },
 "nbformat": 4,
 "nbformat_minor": 4
}
